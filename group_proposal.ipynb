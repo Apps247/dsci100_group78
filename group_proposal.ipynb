{
 "cells": [
  {
   "cell_type": "markdown",
   "id": "c1ec2d4a-6bf9-4a7c-ae5b-ebee2e55d255",
   "metadata": {
    "tags": []
   },
   "source": [
    "# Title (Group 78 Project Proposal)"
   ]
  },
  {
   "cell_type": "markdown",
   "id": "a758c4ba-6111-4f49-894d-8ebcb95b3d49",
   "metadata": {
    "tags": []
   },
   "source": [
    "## Introduction\n",
    "\n",
    "### Background Information\n",
    "\n",
    "Vancouver is a rainy city with over 1/3rd of the year raining. How much will it rain in a given day, given certain weather factors? According to ___ studies have shown that machine-learning-based forecast systems can predict the weather just as well as conventional numeric weather models, but at a fraction of the cost. We will try to predict the rainfall for a day, in mm, with a knn-regression model built using a ___ dataset. \n",
    "\n",
    "We have downloaded a [dataset](https://vancouver.weatherstats.ca/download.html) from ____, which shows climate data for vancouver for the past _____. It contains ___ ____ ____. To identify which variables affect the temperature, we will analyze the data and plot graphs _______.\n",
    "\n",
    "\n",
    "\n",
    "\n",
    "\n"
   ]
  },
  {
   "cell_type": "markdown",
   "id": "fa0a8b91-56cd-4cb3-ad6b-f96a2eca169c",
   "metadata": {
    "tags": []
   },
   "source": [
    "## Preliminary Explatory Data Analysis"
   ]
  },
  {
   "cell_type": "code",
   "execution_count": 8,
   "id": "2f8fda55-a1f3-44dc-8001-f52bacdd530f",
   "metadata": {},
   "outputs": [],
   "source": [
    "library(tidyverse)\n",
    "library(testthat)\n",
    "library(digest)\n",
    "library(repr)\n",
    "library(tidymodels)\n",
    "options(repr.matrix.max.rows = 6)"
   ]
  },
  {
   "cell_type": "markdown",
   "id": "ad1d020c-e0cd-4f81-8064-722d80a2ca5d",
   "metadata": {},
   "source": [
    "Inspecting the data should ___ csv ___ read_csv"
   ]
  },
  {
   "cell_type": "code",
   "execution_count": null,
   "id": "b68acb7a-c3b1-4120-a70d-5fea450887e7",
   "metadata": {},
   "outputs": [
    {
     "name": "stderr",
     "output_type": "stream",
     "text": [
      "\u001b[1mRows: \u001b[22m\u001b[34m4000\u001b[39m \u001b[1mColumns: \u001b[22m\u001b[34m70\u001b[39m\n",
      "\u001b[36m──\u001b[39m \u001b[1mColumn specification\u001b[22m \u001b[36m────────────────────────────────────────────────────────\u001b[39m\n",
      "\u001b[1mDelimiter:\u001b[22m \",\"\n",
      "\u001b[32mdbl\u001b[39m  (62): max_temperature, avg_hourly_temperature, avg_temperature, min_tem...\n",
      "\u001b[33mlgl\u001b[39m   (5): solar_radiation, max_cloud_cover_4, avg_hourly_cloud_cover_4, avg...\n",
      "\u001b[34mdate\u001b[39m  (1): date\n",
      "\u001b[34mtime\u001b[39m  (2): sunrise, sunset\n",
      "\n",
      "\u001b[36mℹ\u001b[39m Use `spec()` to retrieve the full column specification for this data.\n",
      "\u001b[36mℹ\u001b[39m Specify the column types or set `show_col_types = FALSE` to quiet this message.\n"
     ]
    },
    {
     "data": {
      "text/html": [
       "<table class=\"dataframe\">\n",
       "<caption>A tibble: 4000 × 10</caption>\n",
       "<thead>\n",
       "\t<tr><th scope=col>avg_wind_speed</th><th scope=col>min_cloud_cover_8</th><th scope=col>max_wind_speed</th><th scope=col>max_cloud_cover_8</th><th scope=col>avg_health_index</th><th scope=col>avg_hourly_cloud_cover_8</th><th scope=col>avg_relative_humidity</th><th scope=col>min_temperature</th><th scope=col>avg_hourly_health_index</th><th scope=col>sunset_f</th></tr>\n",
       "\t<tr><th scope=col>&lt;dbl&gt;</th><th scope=col>&lt;dbl&gt;</th><th scope=col>&lt;dbl&gt;</th><th scope=col>&lt;dbl&gt;</th><th scope=col>&lt;dbl&gt;</th><th scope=col>&lt;dbl&gt;</th><th scope=col>&lt;dbl&gt;</th><th scope=col>&lt;dbl&gt;</th><th scope=col>&lt;dbl&gt;</th><th scope=col>&lt;dbl&gt;</th></tr>\n",
       "</thead>\n",
       "<tbody>\n",
       "\t<tr><td>20.0</td><td>7</td><td>32</td><td>8</td><td>1.6</td><td>8.0</td><td>93.5</td><td>7.5</td><td>1.7</td><td>18.07</td></tr>\n",
       "\t<tr><td>18.5</td><td>1</td><td>32</td><td>8</td><td>1.8</td><td>6.4</td><td>86.0</td><td>7.4</td><td>1.7</td><td>18.10</td></tr>\n",
       "\t<tr><td> 9.5</td><td>1</td><td>16</td><td>8</td><td>1.6</td><td>6.9</td><td>83.0</td><td>3.3</td><td>1.5</td><td>18.13</td></tr>\n",
       "\t<tr><td>⋮</td><td>⋮</td><td>⋮</td><td>⋮</td><td>⋮</td><td>⋮</td><td>⋮</td><td>⋮</td><td>⋮</td><td>⋮</td></tr>\n",
       "\t<tr><td>10.0</td><td>NA</td><td>20</td><td>NA</td><td>2.0</td><td>NA</td><td>77.5</td><td>-0.2</td><td>2.0</td><td>16.53</td></tr>\n",
       "\t<tr><td>32.5</td><td>NA</td><td>52</td><td>NA</td><td>2.0</td><td>NA</td><td>73.5</td><td> 4.4</td><td>2.0</td><td>16.55</td></tr>\n",
       "\t<tr><td>18.5</td><td>NA</td><td>37</td><td>NA</td><td>1.9</td><td>NA</td><td>85.0</td><td> 4.4</td><td>1.8</td><td>16.58</td></tr>\n",
       "</tbody>\n",
       "</table>\n"
      ],
      "text/latex": [
       "A tibble: 4000 × 10\n",
       "\\begin{tabular}{llllllllll}\n",
       " avg\\_wind\\_speed & min\\_cloud\\_cover\\_8 & max\\_wind\\_speed & max\\_cloud\\_cover\\_8 & avg\\_health\\_index & avg\\_hourly\\_cloud\\_cover\\_8 & avg\\_relative\\_humidity & min\\_temperature & avg\\_hourly\\_health\\_index & sunset\\_f\\\\\n",
       " <dbl> & <dbl> & <dbl> & <dbl> & <dbl> & <dbl> & <dbl> & <dbl> & <dbl> & <dbl>\\\\\n",
       "\\hline\n",
       "\t 20.0 & 7 & 32 & 8 & 1.6 & 8.0 & 93.5 & 7.5 & 1.7 & 18.07\\\\\n",
       "\t 18.5 & 1 & 32 & 8 & 1.8 & 6.4 & 86.0 & 7.4 & 1.7 & 18.10\\\\\n",
       "\t  9.5 & 1 & 16 & 8 & 1.6 & 6.9 & 83.0 & 3.3 & 1.5 & 18.13\\\\\n",
       "\t ⋮ & ⋮ & ⋮ & ⋮ & ⋮ & ⋮ & ⋮ & ⋮ & ⋮ & ⋮\\\\\n",
       "\t 10.0 & NA & 20 & NA & 2.0 & NA & 77.5 & -0.2 & 2.0 & 16.53\\\\\n",
       "\t 32.5 & NA & 52 & NA & 2.0 & NA & 73.5 &  4.4 & 2.0 & 16.55\\\\\n",
       "\t 18.5 & NA & 37 & NA & 1.9 & NA & 85.0 &  4.4 & 1.8 & 16.58\\\\\n",
       "\\end{tabular}\n"
      ],
      "text/markdown": [
       "\n",
       "A tibble: 4000 × 10\n",
       "\n",
       "| avg_wind_speed &lt;dbl&gt; | min_cloud_cover_8 &lt;dbl&gt; | max_wind_speed &lt;dbl&gt; | max_cloud_cover_8 &lt;dbl&gt; | avg_health_index &lt;dbl&gt; | avg_hourly_cloud_cover_8 &lt;dbl&gt; | avg_relative_humidity &lt;dbl&gt; | min_temperature &lt;dbl&gt; | avg_hourly_health_index &lt;dbl&gt; | sunset_f &lt;dbl&gt; |\n",
       "|---|---|---|---|---|---|---|---|---|---|\n",
       "| 20.0 | 7 | 32 | 8 | 1.6 | 8.0 | 93.5 | 7.5 | 1.7 | 18.07 |\n",
       "| 18.5 | 1 | 32 | 8 | 1.8 | 6.4 | 86.0 | 7.4 | 1.7 | 18.10 |\n",
       "|  9.5 | 1 | 16 | 8 | 1.6 | 6.9 | 83.0 | 3.3 | 1.5 | 18.13 |\n",
       "| ⋮ | ⋮ | ⋮ | ⋮ | ⋮ | ⋮ | ⋮ | ⋮ | ⋮ | ⋮ |\n",
       "| 10.0 | NA | 20 | NA | 2.0 | NA | 77.5 | -0.2 | 2.0 | 16.53 |\n",
       "| 32.5 | NA | 52 | NA | 2.0 | NA | 73.5 |  4.4 | 2.0 | 16.55 |\n",
       "| 18.5 | NA | 37 | NA | 1.9 | NA | 85.0 |  4.4 | 1.8 | 16.58 |\n",
       "\n"
      ],
      "text/plain": [
       "     avg_wind_speed min_cloud_cover_8 max_wind_speed max_cloud_cover_8\n",
       "1    20.0           7                 32             8                \n",
       "2    18.5           1                 32             8                \n",
       "3     9.5           1                 16             8                \n",
       "⋮    ⋮              ⋮                 ⋮              ⋮                \n",
       "3998 10.0           NA                20             NA               \n",
       "3999 32.5           NA                52             NA               \n",
       "4000 18.5           NA                37             NA               \n",
       "     avg_health_index avg_hourly_cloud_cover_8 avg_relative_humidity\n",
       "1    1.6              8.0                      93.5                 \n",
       "2    1.8              6.4                      86.0                 \n",
       "3    1.6              6.9                      83.0                 \n",
       "⋮    ⋮                ⋮                        ⋮                    \n",
       "3998 2.0              NA                       77.5                 \n",
       "3999 2.0              NA                       73.5                 \n",
       "4000 1.9              NA                       85.0                 \n",
       "     min_temperature avg_hourly_health_index sunset_f\n",
       "1    7.5             1.7                     18.07   \n",
       "2    7.4             1.7                     18.10   \n",
       "3    3.3             1.5                     18.13   \n",
       "⋮    ⋮               ⋮                       ⋮       \n",
       "3998 -0.2            2.0                     16.53   \n",
       "3999  4.4            2.0                     16.55   \n",
       "4000  4.4            1.8                     16.58   "
      ]
     },
     "metadata": {},
     "output_type": "display_data"
    }
   ],
   "source": [
    "weather <- read_csv(\"data/weatherstats_vancouver_daily.csv\")\n",
    "sample(weather, 10)"
   ]
  },
  {
   "cell_type": "markdown",
   "id": "b433d16a-3039-47d7-be78-3d783f64a987",
   "metadata": {},
   "source": [
    "Taking a glimpse of our data shows that it is __tidy. We will remove the dew_point column since dew point is just a calculation involving __, __, __"
   ]
  },
  {
   "cell_type": "markdown",
   "id": "f1e3608b-e78e-44fa-8490-f211cd64f24b",
   "metadata": {},
   "source": [
    "### Wrangling"
   ]
  },
  {
   "cell_type": "markdown",
   "id": "996735e4-babe-43ea-a964-c3b80566b23e",
   "metadata": {},
   "source": [
    "We start by wrangling the data into a ___ format. ___ says that the three factors that influence rain primarily are temperature, humidity, and windspeed. Our dataset provides daily averages for each. "
   ]
  },
  {
   "cell_type": "markdown",
   "id": "2e7fefde-eabe-4749-8c41-83d926c7abb4",
   "metadata": {},
   "source": [
    "We filter out rows !!! where measurements are NA, because this could affect the knn algorithm’s accuracy? Since we have over ___ and only a few columns have NA, this should not bias our model too much."
   ]
  },
  {
   "cell_type": "markdown",
   "id": "b91b983f-1495-4930-96a2-fba80064875b",
   "metadata": {},
   "source": [
    "HEADING VISUALIZATION"
   ]
  },
  {
   "cell_type": "code",
   "execution_count": 6,
   "id": "2a473d6d-b6b0-49eb-8b94-3e2d8eda5012",
   "metadata": {},
   "outputs": [],
   "source": [
    "options(repr.plot.width = 8, repr.plot.height = 7)\n",
    "small_weather <- slice_sample(weather, n = 100)"
   ]
  },
  {
   "cell_type": "code",
   "execution_count": 7,
   "id": "9dcdc6ca-cefd-4caf-b4ce-0dbd35ad0f84",
   "metadata": {},
   "outputs": [],
   "source": [
    "quick_plot <- small_weather |>\n",
    "              ggplot(aes(x=))\n"
   ]
  },
  {
   "cell_type": "markdown",
   "id": "480dd6b6-ef4e-494f-ad7d-d10049b0cbe8",
   "metadata": {
    "tags": []
   },
   "source": [
    "## Methods"
   ]
  },
  {
   "cell_type": "code",
   "execution_count": null,
   "id": "45b9711e-9371-49a4-8355-6a433160bc05",
   "metadata": {},
   "outputs": [],
   "source": [
    "We start by splitting our data into training and testing data, and ensure we have an even distribution of rainfall values.\n"
   ]
  },
  {
   "cell_type": "markdown",
   "id": "bc61d0cf-fa46-482b-8928-9c7262339b5d",
   "metadata": {},
   "source": [
    "## Expected Outcomes and Significance"
   ]
  }
 ],
 "metadata": {
  "kernelspec": {
   "display_name": "R",
   "language": "R",
   "name": "ir"
  },
  "language_info": {
   "codemirror_mode": "r",
   "file_extension": ".r",
   "mimetype": "text/x-r-source",
   "name": "R",
   "pygments_lexer": "r",
   "version": "4.1.3"
  }
 },
 "nbformat": 4,
 "nbformat_minor": 5
}
