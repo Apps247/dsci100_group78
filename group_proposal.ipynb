{
 "cells": [
  {
   "cell_type": "markdown",
   "id": "298fec94",
   "metadata": {
    "tags": []
   },
   "source": [
    "# Title (Group 78 Project Proposal) ** we'll edit in later! "
   ]
  },
  {
   "cell_type": "markdown",
   "id": "ed8068b1",
   "metadata": {
    "tags": []
   },
   "source": [
    "## Introduction\n",
    "\n",
    "### Background Information\n",
    "\n",
    "Vancouver is one of the rainiest cities in Canada, averaging over 1 metre of rainfall per year (*[Government of Canada 1981-2010 Climate Normals & Averages](https://climate.weather.gc.ca/climate_normals/index_e.html)*). Daily weather forecasts have become essential for residents to plan everything from what to wear, all the way to what activities to plan for the day. Meteorologists use complex computation based on Lewis Richardson's numerical process for weather prediction (1922). However, a 2021 study by Colorado State University showed that machine-learning-based forecast systems can predict the weather just as well, but at a _fraction_ of the cost.\n",
    "\n",
    "How much will it rain on a given day? We shall try to answer this with meteorological measurements and a regression model as well as evaluate the accuracy of the end result. We will train our model using a [dataset](https://vancouver.weatherstats.ca/download.html) downloaded from _Vancouver Weather Stats_, containing shows climate data for vancouver for the past 12 years.\n",
    "\n",
    "**TODO**\n",
    "- (**our research question is..**\n",
    "- describe why data set is important //)\n",
    "- briefly describe our approach; ex. using regression to predict actual amount of rainfall and comparing that model to see its accuracy\n",
    "- include some info on what columns this dataset contains in the wrangling section \n",
    "\n",
    ""
   ]
  },
  {
   "cell_type": "code",
   "execution_count": null,
   "id": "d516ab93",
   "metadata": {},
   "outputs": [],
   "source": []
  },
  {
   "cell_type": "markdown",
   "id": "087a406b",
   "metadata": {
    "tags": []
   },
   "source": [
    "## Preliminary Explatory Data Analysis"
   ]
  },
  {
   "cell_type": "code",
   "execution_count": 1,
   "id": "e9174971",
   "metadata": {},
   "outputs": [],
   "source": [
    "library(tidyverse)\n",
    "library(testthat)\n",
    "library(digest)\n",
    "library(repr)\n",
    "library(tidymodels)\n",
    "options(repr.matrix.max.rows = 6)"
   ]
  },
  {
   "cell_type": "markdown",
   "id": "7c7c2251",
   "metadata": {},
   "source": [
    "Inspecting the data should ___ csv ___ read_csv"
   ]
  },
  {
   "cell_type": "code",
   "execution_count": null,
   "id": "a1cf3378",
   "metadata": {},
   "outputs": [
    {
     "name": "stderr",
     "output_type": "stream",
     "text": [
      "\u001b[1mRows: \u001b[22m\u001b[34m4000\u001b[39m \u001b[1mColumns: \u001b[22m\u001b[34m70\u001b[39m\n",
      "\u001b[36m──\u001b[39m \u001b[1mColumn specification\u001b[22m \u001b[36m────────────────────────────────────────────────────────\u001b[39m\n",
      "\u001b[1mDelimiter:\u001b[22m \",\"\n",
      "\u001b[32mdbl\u001b[39m  (62): max_temperature, avg_hourly_temperature, avg_temperature, min_tem...\n",
      "\u001b[33mlgl\u001b[39m   (5): solar_radiation, max_cloud_cover_4, avg_hourly_cloud_cover_4, avg...\n",
      "\u001b[34mdate\u001b[39m  (1): date\n",
      "\u001b[34mtime\u001b[39m  (2): sunrise, sunset\n",
      "\n",
      "\u001b[36mℹ\u001b[39m Use `spec()` to retrieve the full column specification for this data.\n",
      "\u001b[36mℹ\u001b[39m Specify the column types or set `show_col_types = FALSE` to quiet this message.\n"
     ]
    }
   ],
   "source": [
    "rain_data <- read_csv(\"data/weatherstats_vancouver_daily.csv\")"
   ]
  },
  {
   "cell_type": "markdown",
   "id": "eab1fc6a",
   "metadata": {},
   "source": [
    "Taking a glimpse of our data shows that it is __tidy. We will remove the dew_point column since dew point is just a calculation involving __, __, __"
   ]
  },
  {
   "cell_type": "markdown",
   "id": "ef854550",
   "metadata": {},
   "source": [
    "### Wrangling"
   ]
  },
  {
   "cell_type": "markdown",
   "id": "cb48ef71",
   "metadata": {},
   "source": [
    "We start by wrangling the data into a ___ format. ___ says that the three factors that influence rain primarily are **temperature, humidity, and windspeed**. Our dataset provides **daily averages** for each. "
   ]
  },
  {
   "cell_type": "markdown",
   "id": "fb224f29",
   "metadata": {},
   "source": [
    "We filter out rows !!! where measurements are NA, because this could affect the knn algorithm’s accuracy? Since we have over ___ and only a few columns have NA, this should not bias our model too much."
   ]
  },
  {
   "cell_type": "markdown",
   "id": "b5db916a",
   "metadata": {},
   "source": [
    "We filtered out the rows that were most effective for prediction, and removed the rows with NA, since they might affect the knn algorithm’s accuracy. "
   ]
  },
  {
   "cell_type": "code",
   "execution_count": null,
   "id": "3736e83e",
   "metadata": {},
   "outputs": [
    {
     "data": {
      "text/html": [
       "<table class=\"dataframe\">\n",
       "<caption>A tibble: 1758 × 6</caption>\n",
       "<thead>\n",
       "\t<tr><th scope=col>date</th><th scope=col>avg_temperature</th><th scope=col>avg_relative_humidity</th><th scope=col>avg_wind_speed</th><th scope=col>rain</th><th scope=col>rain_flag</th></tr>\n",
       "\t<tr><th scope=col>&lt;date&gt;</th><th scope=col>&lt;dbl&gt;</th><th scope=col>&lt;dbl&gt;</th><th scope=col>&lt;dbl&gt;</th><th scope=col>&lt;dbl&gt;</th><th scope=col>&lt;lgl&gt;</th></tr>\n",
       "</thead>\n",
       "<tbody>\n",
       "\t<tr><td>2022-10-24</td><td>10.35</td><td>86.0</td><td>18.5</td><td>13.0</td><td>TRUE</td></tr>\n",
       "\t<tr><td>2022-10-23</td><td> 7.60</td><td>83.0</td><td> 9.5</td><td> 6.7</td><td>TRUE</td></tr>\n",
       "\t<tr><td>2022-10-22</td><td> 9.05</td><td>85.5</td><td> 6.5</td><td> 0.2</td><td>TRUE</td></tr>\n",
       "\t<tr><td>⋮</td><td>⋮</td><td>⋮</td><td>⋮</td><td>⋮</td><td>⋮</td></tr>\n",
       "\t<tr><td>2011-11-18</td><td>1.95</td><td>91.5</td><td> 9.5</td><td> 1.2</td><td>TRUE</td></tr>\n",
       "\t<tr><td>2011-11-17</td><td>4.39</td><td>75.5</td><td>24.0</td><td> 1.4</td><td>TRUE</td></tr>\n",
       "\t<tr><td>2011-11-16</td><td>4.15</td><td>83.5</td><td>24.0</td><td>11.8</td><td>TRUE</td></tr>\n",
       "</tbody>\n",
       "</table>\n"
      ],
      "text/latex": [
       "A tibble: 1758 × 6\n",
       "\\begin{tabular}{llllll}\n",
       " date & avg\\_temperature & avg\\_relative\\_humidity & avg\\_wind\\_speed & rain & rain\\_flag\\\\\n",
       " <date> & <dbl> & <dbl> & <dbl> & <dbl> & <lgl>\\\\\n",
       "\\hline\n",
       "\t 2022-10-24 & 10.35 & 86.0 & 18.5 & 13.0 & TRUE\\\\\n",
       "\t 2022-10-23 &  7.60 & 83.0 &  9.5 &  6.7 & TRUE\\\\\n",
       "\t 2022-10-22 &  9.05 & 85.5 &  6.5 &  0.2 & TRUE\\\\\n",
       "\t ⋮ & ⋮ & ⋮ & ⋮ & ⋮ & ⋮\\\\\n",
       "\t 2011-11-18 & 1.95 & 91.5 &  9.5 &  1.2 & TRUE\\\\\n",
       "\t 2011-11-17 & 4.39 & 75.5 & 24.0 &  1.4 & TRUE\\\\\n",
       "\t 2011-11-16 & 4.15 & 83.5 & 24.0 & 11.8 & TRUE\\\\\n",
       "\\end{tabular}\n"
      ],
      "text/markdown": [
       "\n",
       "A tibble: 1758 × 6\n",
       "\n",
       "| date &lt;date&gt; | avg_temperature &lt;dbl&gt; | avg_relative_humidity &lt;dbl&gt; | avg_wind_speed &lt;dbl&gt; | rain &lt;dbl&gt; | rain_flag &lt;lgl&gt; |\n",
       "|---|---|---|---|---|---|\n",
       "| 2022-10-24 | 10.35 | 86.0 | 18.5 | 13.0 | TRUE |\n",
       "| 2022-10-23 |  7.60 | 83.0 |  9.5 |  6.7 | TRUE |\n",
       "| 2022-10-22 |  9.05 | 85.5 |  6.5 |  0.2 | TRUE |\n",
       "| ⋮ | ⋮ | ⋮ | ⋮ | ⋮ | ⋮ |\n",
       "| 2011-11-18 | 1.95 | 91.5 |  9.5 |  1.2 | TRUE |\n",
       "| 2011-11-17 | 4.39 | 75.5 | 24.0 |  1.4 | TRUE |\n",
       "| 2011-11-16 | 4.15 | 83.5 | 24.0 | 11.8 | TRUE |\n",
       "\n"
      ],
      "text/plain": [
       "     date       avg_temperature avg_relative_humidity avg_wind_speed rain\n",
       "1    2022-10-24 10.35           86.0                  18.5           13.0\n",
       "2    2022-10-23  7.60           83.0                   9.5            6.7\n",
       "3    2022-10-22  9.05           85.5                   6.5            0.2\n",
       "⋮    ⋮          ⋮               ⋮                     ⋮              ⋮   \n",
       "1756 2011-11-18 1.95            91.5                   9.5            1.2\n",
       "1757 2011-11-17 4.39            75.5                  24.0            1.4\n",
       "1758 2011-11-16 4.15            83.5                  24.0           11.8\n",
       "     rain_flag\n",
       "1    TRUE     \n",
       "2    TRUE     \n",
       "3    TRUE     \n",
       "⋮    ⋮        \n",
       "1756 TRUE     \n",
       "1757 TRUE     \n",
       "1758 TRUE     "
      ]
     },
     "metadata": {},
     "output_type": "display_data"
    }
   ],
   "source": [
    "rain_data |> \n",
    "            filter(rain>0)|>\n",
    "            select(date, avg_temperature, avg_relative_humidity, avg_wind_speed, rain) |> \n",
    "            mutate(rain_flag = (rain > 0))|>\n",
    "            na.omit(rain_data)"
   ]
  },
  {
   "cell_type": "markdown",
   "id": "c0255351",
   "metadata": {},
   "source": [
    "### Visualization"
   ]
  },
  {
   "cell_type": "code",
   "execution_count": 1,
   "id": "ca0d6564",
   "metadata": {},
   "outputs": [],
   "source": [
    "options(repr.plot.width = 8, repr.plot.height = 7)"
   ]
  },
  {
   "cell_type": "markdown",
   "id": "8967fdd9",
   "metadata": {},
   "source": [
    "Before proceeding with visualzation, let us first split our data into training and testing to ensure fairness when testing accuracy. We have chosen to allocate 75% of the data for training. This ensures balance between enough data available a well-trained model, aswellas enough data to judge the accuracy well. We maintain evenness of the `rain` column's values when splitting."
   ]
  },
  {
   "cell_type": "code",
   "execution_count": 7,
   "id": "4b05f11b",
   "metadata": {},
   "outputs": [],
   "source": [
    "<<<<<<< LOCAL CELL DELETED >>>>>>>\n",
    "options(repr.plot.width = 8, repr.plot.height = 7)\n",
    "small_weather <- slice_sample(rain_data, n = 100)"
   ]
  },
  {
   "cell_type": "code",
   "execution_count": null,
   "id": "c5cdf8ac",
   "metadata": {},
   "outputs": [
    {
     "name": "stderr",
     "output_type": "stream",
     "text": [
      "<<<<<<< local\n"
     ]
    },
    {
     "name": "stdout",
     "output_type": "stream",
     "text": [
      "Rows: 2,999\n",
      "Columns: 70\n",
      "$ date                          \u001b[3m\u001b[90m<date>\u001b[39m\u001b[23m 2022-10-22, 2022-10-21, 2022-10-19, 202…\n",
      "$ max_temperature               \u001b[3m\u001b[90m<dbl>\u001b[39m\u001b[23m 12.3, 13.0, 13.9, 16.6, 18.2, 20.2, 17.7…\n",
      "$ avg_hourly_temperature        \u001b[3m\u001b[90m<dbl>\u001b[39m\u001b[23m 8.88, 9.98, 10.46, 11.88, 13.54, 12.84, …\n",
      "$ avg_temperature               \u001b[3m\u001b[90m<dbl>\u001b[39m\u001b[23m 9.05, 10.30, 9.85, 11.80, 14.14, 13.10, …\n",
      "$ min_temperature               \u001b[3m\u001b[90m<dbl>\u001b[39m\u001b[23m 5.8, 7.6, 5.8, 7.0, 10.1, 6.0, 6.4, 6.4,…\n",
      "$ max_humidex                   \u001b[3m\u001b[90m<dbl>\u001b[39m\u001b[23m NA, NA, NA, NA, NA, NA, NA, NA, NA, NA, …\n",
      "$ min_windchill                 \u001b[3m\u001b[90m<dbl>\u001b[39m\u001b[23m NA, NA, NA, NA, NA, NA, NA, NA, NA, NA, …\n",
      "$ max_relative_humidity         \u001b[3m\u001b[90m<dbl>\u001b[39m\u001b[23m 100, 100, 100, 100, 100, 100, 100, 100, …\n",
      "$ avg_hourly_relative_humidity  \u001b[3m\u001b[90m<dbl>\u001b[39m\u001b[23m 92.0, 84.1, 100.0, 94.0, 87.5, 82.3, 92.…\n",
      "$ avg_relative_humidity         \u001b[3m\u001b[90m<dbl>\u001b[39m\u001b[23m 85.5, 83.0, 99.5, 87.5, 84.5, 74.0, 86.5…\n",
      "$ min_relative_humidity         \u001b[3m\u001b[90m<dbl>\u001b[39m\u001b[23m 71, 66, 99, 75, 69, 48, 73, 67, 70, 75, …\n",
      "$ max_dew_point                 \u001b[3m\u001b[90m<dbl>\u001b[39m\u001b[23m 9.1, 8.7, 13.6, 13.4, 12.7, 13.6, 13.3, …\n",
      "$ avg_hourly_dew_point          \u001b[3m\u001b[90m<dbl>\u001b[39m\u001b[23m 7.6, 7.3, 10.5, 10.8, 11.4, 9.5, 11.2, 1…\n",
      "$ avg_dew_point                 \u001b[3m\u001b[90m<dbl>\u001b[39m\u001b[23m 7.5, 7.2, 10.4, 10.8, 11.2, 10.1, 10.7, …\n",
      "$ min_dew_point                 \u001b[3m\u001b[90m<dbl>\u001b[39m\u001b[23m 6.0, 5.6, 7.2, 8.2, 9.8, 6.6, 8.0, 8.0, …\n",
      "$ max_wind_speed                \u001b[3m\u001b[90m<dbl>\u001b[39m\u001b[23m 12, 35, 10, 11, 22, 19, 19, 16, 16, 22, …\n",
      "$ avg_hourly_wind_speed         \u001b[3m\u001b[90m<dbl>\u001b[39m\u001b[23m 7.33, 12.88, 5.58, 6.04, 14.33, 6.04, 8.…\n",
      "$ avg_wind_speed                \u001b[3m\u001b[90m<dbl>\u001b[39m\u001b[23m 6.5, 18.0, 6.0, 6.0, 13.5, 10.0, 10.0, 8…\n",
      "$ min_wind_speed                \u001b[3m\u001b[90m<dbl>\u001b[39m\u001b[23m 1, 1, 2, 1, 5, 1, 1, 1, 1, 2, 4, 4, 1, 1…\n",
      "$ max_wind_gust                 \u001b[3m\u001b[90m<dbl>\u001b[39m\u001b[23m NA, 47, NA, NA, 30, NA, NA, NA, NA, NA, …\n",
      "$ wind_gust_dir_10s             \u001b[3m\u001b[90m<dbl>\u001b[39m\u001b[23m NA, 28, NA, NA, 12, NA, NA, NA, NA, NA, …\n",
      "$ max_pressure_sea              \u001b[3m\u001b[90m<dbl>\u001b[39m\u001b[23m 101.27, 101.36, 102.76, 102.58, 102.08, …\n",
      "$ avg_hourly_pressure_sea       \u001b[3m\u001b[90m<dbl>\u001b[39m\u001b[23m 100.76, 100.91, 102.54, 102.33, 101.93, …\n",
      "$ avg_pressure_sea              \u001b[3m\u001b[90m<dbl>\u001b[39m\u001b[23m 100.84, 100.89, 102.49, 102.33, 101.87, …\n",
      "$ min_pressure_sea              \u001b[3m\u001b[90m<dbl>\u001b[39m\u001b[23m 100.42, 100.43, 102.22, 102.09, 101.65, …\n",
      "$ max_pressure_station          \u001b[3m\u001b[90m<dbl>\u001b[39m\u001b[23m 101.24, 101.33, 102.73, 102.55, 102.04, …\n",
      "$ avg_hourly_pressure_station   \u001b[3m\u001b[90m<dbl>\u001b[39m\u001b[23m 100.73, 100.88, 102.51, 102.30, 101.90, …\n",
      "$ avg_pressure_station          \u001b[3m\u001b[90m<dbl>\u001b[39m\u001b[23m 100.81, 100.87, 102.46, 102.31, 101.83, …\n",
      "$ min_pressure_station          \u001b[3m\u001b[90m<dbl>\u001b[39m\u001b[23m 100.39, 100.40, 102.19, 102.06, 101.62, …\n",
      "$ max_visibility                \u001b[3m\u001b[90m<dbl>\u001b[39m\u001b[23m 24100, 24100, 24100, 19300, 24100, 24100…\n",
      "$ avg_hourly_visibility         \u001b[3m\u001b[90m<dbl>\u001b[39m\u001b[23m 19833.3, 21166.7, 12016.7, 11487.5, 2136…\n",
      "$ avg_visibility                \u001b[3m\u001b[90m<dbl>\u001b[39m\u001b[23m 17700, 16100, 12850, 11450, 20100, 20100…\n",
      "$ min_visibility                \u001b[3m\u001b[90m<dbl>\u001b[39m\u001b[23m 11300, 8100, 1600, 3600, 16100, 16100, 1…\n",
      "$ max_health_index              \u001b[3m\u001b[90m<dbl>\u001b[39m\u001b[23m 2.3, 2.5, 11.0, 11.0, 5.0, 5.0, 4.0, 6.0…\n",
      "$ avg_hourly_health_index       \u001b[3m\u001b[90m<dbl>\u001b[39m\u001b[23m 1.6, 2.0, 6.8, 6.0, 3.1, 3.0, 2.6, 2.8, …\n",
      "$ avg_health_index              \u001b[3m\u001b[90m<dbl>\u001b[39m\u001b[23m 1.6, 1.8, 7.0, 6.5, 3.5, 3.2, 3.0, 3.6, …\n",
      "$ min_health_index              \u001b[3m\u001b[90m<dbl>\u001b[39m\u001b[23m 1.0, 1.2, 2.9, 2.0, 2.0, 1.5, 1.9, 1.3, …\n",
      "$ heatdegdays                   \u001b[3m\u001b[90m<dbl>\u001b[39m\u001b[23m 8.9, 7.7, 8.2, 6.2, 3.9, 4.9, 6.0, 5.7, …\n",
      "$ cooldegdays                   \u001b[3m\u001b[90m<dbl>\u001b[39m\u001b[23m 0, 0, 0, 0, 0, 0, 0, 0, 0, 0, 0, 0, 0, 0…\n",
      "$ growdegdays_5                 \u001b[3m\u001b[90m<dbl>\u001b[39m\u001b[23m 4.0, 5.3, 4.8, 6.8, 9.1, 8.1, 7.0, 7.3, …\n",
      "$ growdegdays_7                 \u001b[3m\u001b[90m<dbl>\u001b[39m\u001b[23m 2.0, 3.3, 2.8, 4.8, 7.1, 6.1, 5.0, 5.3, …\n",
      "$ growdegdays_10                \u001b[3m\u001b[90m<dbl>\u001b[39m\u001b[23m 0.0, 0.3, 0.0, 1.8, 4.1, 3.1, 2.0, 2.4, …\n",
      "$ precipitation                 \u001b[3m\u001b[90m<dbl>\u001b[39m\u001b[23m 0.2, 1.4, 0.0, 0.0, 0.0, 0.0, 0.0, 0.0, …\n",
      "$ rain                          \u001b[3m\u001b[90m<dbl>\u001b[39m\u001b[23m 0.2, 1.4, 0.0, 0.0, 0.0, 0.0, 0.0, 0.0, …\n",
      "$ snow                          \u001b[3m\u001b[90m<dbl>\u001b[39m\u001b[23m 0, 0, 0, 0, 0, 0, 0, 0, 0, 0, 0, 0, 0, 0…\n",
      "$ snow_on_ground                \u001b[3m\u001b[90m<dbl>\u001b[39m\u001b[23m NA, NA, NA, NA, NA, NA, NA, NA, NA, NA, …\n",
      "$ sunrise                       \u001b[3m\u001b[90m<time>\u001b[39m\u001b[23m 07:44:00, 07:43:00, 07:39:00, 07:38:00,…\n",
      "$ sunset                        \u001b[3m\u001b[90m<time>\u001b[39m\u001b[23m 18:10:00, 18:11:00, 18:15:00, 18:17:00,…\n",
      "$ daylight                      \u001b[3m\u001b[90m<dbl>\u001b[39m\u001b[23m 10.43, 10.47, 10.60, 10.65, 10.72, 10.77…\n",
      "$ sunrise_f                     \u001b[3m\u001b[90m<dbl>\u001b[39m\u001b[23m 7.73, 7.72, 7.65, 7.63, 7.60, 7.58, 7.55…\n",
      "$ sunset_f                      \u001b[3m\u001b[90m<dbl>\u001b[39m\u001b[23m 18.17, 18.18, 18.25, 18.28, 18.32, 18.35…\n",
      "$ min_uv_forecast               \u001b[3m\u001b[90m<dbl>\u001b[39m\u001b[23m 2, 1, 3, 3, 3, 3, 3, 3, 3, 3, 4, 4, 4, 4…\n",
      "$ max_uv_forecast               \u001b[3m\u001b[90m<dbl>\u001b[39m\u001b[23m 2, 1, 3, 3, 3, 3, 3, 3, 3, 3, 4, 4, 5, 4…\n",
      "$ min_high_temperature_forecast \u001b[3m\u001b[90m<dbl>\u001b[39m\u001b[23m 12, 10, 18, 18, 17, 20, 19, 18, 16, 18, …\n",
      "$ max_high_temperature_forecast \u001b[3m\u001b[90m<dbl>\u001b[39m\u001b[23m 12, 10, 18, 18, 17, 20, 19, 18, 18, 18, …\n",
      "$ min_low_temperature_forecast  \u001b[3m\u001b[90m<dbl>\u001b[39m\u001b[23m 5, 6, 8, 11, 8, 8, 11, 10, 9, 8, 8, 9, 1…\n",
      "$ max_low_temperature_forecast  \u001b[3m\u001b[90m<dbl>\u001b[39m\u001b[23m 6, 7, 8, 11, 8, 10, 11, 11, 9, 9, 9, 9, …\n",
      "$ solar_radiation               \u001b[3m\u001b[90m<lgl>\u001b[39m\u001b[23m NA, NA, NA, NA, NA, NA, NA, NA, NA, NA, …\n",
      "$ max_cloud_cover_4             \u001b[3m\u001b[90m<lgl>\u001b[39m\u001b[23m NA, NA, NA, NA, NA, NA, NA, NA, NA, NA, …\n",
      "$ avg_hourly_cloud_cover_4      \u001b[3m\u001b[90m<lgl>\u001b[39m\u001b[23m NA, NA, NA, NA, NA, NA, NA, NA, NA, NA, …\n",
      "$ avg_cloud_cover_4             \u001b[3m\u001b[90m<lgl>\u001b[39m\u001b[23m NA, NA, NA, NA, NA, NA, NA, NA, NA, NA, …\n",
      "$ min_cloud_cover_4             \u001b[3m\u001b[90m<lgl>\u001b[39m\u001b[23m NA, NA, NA, NA, NA, NA, NA, NA, NA, NA, …\n",
      "$ max_cloud_cover_8             \u001b[3m\u001b[90m<dbl>\u001b[39m\u001b[23m 8, 8, 7, 6, 7, 2, 4, 6, 3, 5, 3, 8, 5, 8…\n",
      "$ avg_hourly_cloud_cover_8      \u001b[3m\u001b[90m<dbl>\u001b[39m\u001b[23m 5.6, 7.4, 3.3, 1.9, 3.8, 0.8, 1.2, 2.1, …\n",
      "$ avg_cloud_cover_8             \u001b[3m\u001b[90m<dbl>\u001b[39m\u001b[23m 4.5, 6.0, 3.5, 3.0, 4.0, 1.0, 2.0, 3.0, …\n",
      "$ min_cloud_cover_8             \u001b[3m\u001b[90m<dbl>\u001b[39m\u001b[23m 1, 4, 0, 0, 1, 0, 0, 0, 0, 0, 0, 0, 0, 2…\n",
      "$ max_cloud_cover_10            \u001b[3m\u001b[90m<dbl>\u001b[39m\u001b[23m NA, NA, NA, NA, NA, NA, NA, NA, NA, NA, …\n",
      "$ avg_hourly_cloud_cover_10     \u001b[3m\u001b[90m<dbl>\u001b[39m\u001b[23m NA, NA, NA, NA, NA, NA, NA, NA, NA, NA, …\n",
      "$ avg_cloud_cover_10            \u001b[3m\u001b[90m<dbl>\u001b[39m\u001b[23m NA, NA, NA, NA, NA, NA, NA, NA, NA, NA, …\n",
      "$ min_cloud_cover_10            \u001b[3m\u001b[90m<dbl>\u001b[39m\u001b[23m NA, NA, NA, NA, NA, NA, NA, NA, NA, NA, …\n"
     ]
    },
    {
     "name": "stderr",
     "output_type": "stream",
     "text": [
      "=======\n",
      ">>>>>>> remote\n",
      "<<<<<<< local <removed>\n",
      "=======\n"
     ]
    },
    {
     "data": {
      "text/html": [
       "<table class=\"dataframe\">\n",
       "<caption>A tibble: 2999 × 70</caption>\n",
       "<thead>\n",
       "\t<tr><th scope=col>date</th><th scope=col>max_temperature</th><th scope=col>avg_hourly_temperature</th><th scope=col>avg_temperature</th><th scope=col>min_temperature</th><th scope=col>max_humidex</th><th scope=col>min_windchill</th><th scope=col>max_relative_humidity</th><th scope=col>avg_hourly_relative_humidity</th><th scope=col>avg_relative_humidity</th><th scope=col>⋯</th><th scope=col>avg_cloud_cover_4</th><th scope=col>min_cloud_cover_4</th><th scope=col>max_cloud_cover_8</th><th scope=col>avg_hourly_cloud_cover_8</th><th scope=col>avg_cloud_cover_8</th><th scope=col>min_cloud_cover_8</th><th scope=col>max_cloud_cover_10</th><th scope=col>avg_hourly_cloud_cover_10</th><th scope=col>avg_cloud_cover_10</th><th scope=col>min_cloud_cover_10</th></tr>\n",
       "\t<tr><th scope=col>&lt;date&gt;</th><th scope=col>&lt;dbl&gt;</th><th scope=col>&lt;dbl&gt;</th><th scope=col>&lt;dbl&gt;</th><th scope=col>&lt;dbl&gt;</th><th scope=col>&lt;dbl&gt;</th><th scope=col>&lt;dbl&gt;</th><th scope=col>&lt;dbl&gt;</th><th scope=col>&lt;dbl&gt;</th><th scope=col>&lt;dbl&gt;</th><th scope=col>⋯</th><th scope=col>&lt;lgl&gt;</th><th scope=col>&lt;lgl&gt;</th><th scope=col>&lt;dbl&gt;</th><th scope=col>&lt;dbl&gt;</th><th scope=col>&lt;dbl&gt;</th><th scope=col>&lt;dbl&gt;</th><th scope=col>&lt;dbl&gt;</th><th scope=col>&lt;dbl&gt;</th><th scope=col>&lt;dbl&gt;</th><th scope=col>&lt;dbl&gt;</th></tr>\n",
       "</thead>\n",
       "<tbody>\n",
       "\t<tr><td>2022-10-22</td><td>12.3</td><td> 8.88</td><td> 9.05</td><td>5.8</td><td>NA</td><td>NA</td><td>100</td><td>92.0</td><td>85.5</td><td>⋯</td><td>NA</td><td>NA</td><td>8</td><td>5.6</td><td>4.5</td><td>1</td><td>NA</td><td>NA</td><td>NA</td><td>NA</td></tr>\n",
       "\t<tr><td>2022-10-21</td><td>13.0</td><td> 9.98</td><td>10.30</td><td>7.6</td><td>NA</td><td>NA</td><td>100</td><td>84.1</td><td>83.0</td><td>⋯</td><td>NA</td><td>NA</td><td>8</td><td>7.4</td><td>6.0</td><td>4</td><td>NA</td><td>NA</td><td>NA</td><td>NA</td></tr>\n",
       "\t<tr><td>2022-10-20</td><td>17.1</td><td>13.11</td><td>13.15</td><td>9.2</td><td>NA</td><td>NA</td><td>100</td><td>84.5</td><td>78.5</td><td>⋯</td><td>NA</td><td>NA</td><td>8</td><td>6.1</td><td>5.5</td><td>3</td><td>NA</td><td>NA</td><td>NA</td><td>NA</td></tr>\n",
       "\t<tr><td>⋮</td><td>⋮</td><td>⋮</td><td>⋮</td><td>⋮</td><td>⋮</td><td>⋮</td><td>⋮</td><td>⋮</td><td>⋮</td><td>⋱</td><td>⋮</td><td>⋮</td><td>⋮</td><td>⋮</td><td>⋮</td><td>⋮</td><td>⋮</td><td>⋮</td><td>⋮</td><td>⋮</td></tr>\n",
       "\t<tr><td>2011-11-23</td><td>7.4</td><td>5.10</td><td>5.20</td><td>3.0</td><td>NA</td><td>NA</td><td>98</td><td>92.1</td><td>90.5</td><td>⋯</td><td>NA</td><td>NA</td><td>NA</td><td>NA</td><td>NA</td><td>NA</td><td>NA</td><td>NA</td><td>NA</td><td>NA</td></tr>\n",
       "\t<tr><td>2011-11-22</td><td>9.8</td><td>7.33</td><td>7.50</td><td>5.2</td><td>NA</td><td>NA</td><td>98</td><td>90.1</td><td>83.5</td><td>⋯</td><td>NA</td><td>NA</td><td>NA</td><td>NA</td><td>NA</td><td>NA</td><td>NA</td><td>NA</td><td>NA</td><td>NA</td></tr>\n",
       "\t<tr><td>2011-11-21</td><td>8.1</td><td>5.26</td><td>4.39</td><td>0.7</td><td>NA</td><td>NA</td><td>97</td><td>87.0</td><td>85.5</td><td>⋯</td><td>NA</td><td>NA</td><td>NA</td><td>NA</td><td>NA</td><td>NA</td><td>NA</td><td>NA</td><td>NA</td><td>NA</td></tr>\n",
       "</tbody>\n",
       "</table>\n"
      ],
      "text/latex": [
       "A tibble: 2999 × 70\n",
       "\\begin{tabular}{lllllllllllllllllllll}\n",
       " date & max\\_temperature & avg\\_hourly\\_temperature & avg\\_temperature & min\\_temperature & max\\_humidex & min\\_windchill & max\\_relative\\_humidity & avg\\_hourly\\_relative\\_humidity & avg\\_relative\\_humidity & ⋯ & avg\\_cloud\\_cover\\_4 & min\\_cloud\\_cover\\_4 & max\\_cloud\\_cover\\_8 & avg\\_hourly\\_cloud\\_cover\\_8 & avg\\_cloud\\_cover\\_8 & min\\_cloud\\_cover\\_8 & max\\_cloud\\_cover\\_10 & avg\\_hourly\\_cloud\\_cover\\_10 & avg\\_cloud\\_cover\\_10 & min\\_cloud\\_cover\\_10\\\\\n",
       " <date> & <dbl> & <dbl> & <dbl> & <dbl> & <dbl> & <dbl> & <dbl> & <dbl> & <dbl> & ⋯ & <lgl> & <lgl> & <dbl> & <dbl> & <dbl> & <dbl> & <dbl> & <dbl> & <dbl> & <dbl>\\\\\n",
       "\\hline\n",
       "\t 2022-10-22 & 12.3 &  8.88 &  9.05 & 5.8 & NA & NA & 100 & 92.0 & 85.5 & ⋯ & NA & NA & 8 & 5.6 & 4.5 & 1 & NA & NA & NA & NA\\\\\n",
       "\t 2022-10-21 & 13.0 &  9.98 & 10.30 & 7.6 & NA & NA & 100 & 84.1 & 83.0 & ⋯ & NA & NA & 8 & 7.4 & 6.0 & 4 & NA & NA & NA & NA\\\\\n",
       "\t 2022-10-20 & 17.1 & 13.11 & 13.15 & 9.2 & NA & NA & 100 & 84.5 & 78.5 & ⋯ & NA & NA & 8 & 6.1 & 5.5 & 3 & NA & NA & NA & NA\\\\\n",
       "\t ⋮ & ⋮ & ⋮ & ⋮ & ⋮ & ⋮ & ⋮ & ⋮ & ⋮ & ⋮ & ⋱ & ⋮ & ⋮ & ⋮ & ⋮ & ⋮ & ⋮ & ⋮ & ⋮ & ⋮ & ⋮\\\\\n",
       "\t 2011-11-23 & 7.4 & 5.10 & 5.20 & 3.0 & NA & NA & 98 & 92.1 & 90.5 & ⋯ & NA & NA & NA & NA & NA & NA & NA & NA & NA & NA\\\\\n",
       "\t 2011-11-22 & 9.8 & 7.33 & 7.50 & 5.2 & NA & NA & 98 & 90.1 & 83.5 & ⋯ & NA & NA & NA & NA & NA & NA & NA & NA & NA & NA\\\\\n",
       "\t 2011-11-21 & 8.1 & 5.26 & 4.39 & 0.7 & NA & NA & 97 & 87.0 & 85.5 & ⋯ & NA & NA & NA & NA & NA & NA & NA & NA & NA & NA\\\\\n",
       "\\end{tabular}\n"
      ],
      "text/markdown": [
       "\n",
       "A tibble: 2999 × 70\n",
       "\n",
       "| date &lt;date&gt; | max_temperature &lt;dbl&gt; | avg_hourly_temperature &lt;dbl&gt; | avg_temperature &lt;dbl&gt; | min_temperature &lt;dbl&gt; | max_humidex &lt;dbl&gt; | min_windchill &lt;dbl&gt; | max_relative_humidity &lt;dbl&gt; | avg_hourly_relative_humidity &lt;dbl&gt; | avg_relative_humidity &lt;dbl&gt; | ⋯ ⋯ | avg_cloud_cover_4 &lt;lgl&gt; | min_cloud_cover_4 &lt;lgl&gt; | max_cloud_cover_8 &lt;dbl&gt; | avg_hourly_cloud_cover_8 &lt;dbl&gt; | avg_cloud_cover_8 &lt;dbl&gt; | min_cloud_cover_8 &lt;dbl&gt; | max_cloud_cover_10 &lt;dbl&gt; | avg_hourly_cloud_cover_10 &lt;dbl&gt; | avg_cloud_cover_10 &lt;dbl&gt; | min_cloud_cover_10 &lt;dbl&gt; |\n",
       "|---|---|---|---|---|---|---|---|---|---|---|---|---|---|---|---|---|---|---|---|---|\n",
       "| 2022-10-22 | 12.3 |  8.88 |  9.05 | 5.8 | NA | NA | 100 | 92.0 | 85.5 | ⋯ | NA | NA | 8 | 5.6 | 4.5 | 1 | NA | NA | NA | NA |\n",
       "| 2022-10-21 | 13.0 |  9.98 | 10.30 | 7.6 | NA | NA | 100 | 84.1 | 83.0 | ⋯ | NA | NA | 8 | 7.4 | 6.0 | 4 | NA | NA | NA | NA |\n",
       "| 2022-10-20 | 17.1 | 13.11 | 13.15 | 9.2 | NA | NA | 100 | 84.5 | 78.5 | ⋯ | NA | NA | 8 | 6.1 | 5.5 | 3 | NA | NA | NA | NA |\n",
       "| ⋮ | ⋮ | ⋮ | ⋮ | ⋮ | ⋮ | ⋮ | ⋮ | ⋮ | ⋮ | ⋱ | ⋮ | ⋮ | ⋮ | ⋮ | ⋮ | ⋮ | ⋮ | ⋮ | ⋮ | ⋮ |\n",
       "| 2011-11-23 | 7.4 | 5.10 | 5.20 | 3.0 | NA | NA | 98 | 92.1 | 90.5 | ⋯ | NA | NA | NA | NA | NA | NA | NA | NA | NA | NA |\n",
       "| 2011-11-22 | 9.8 | 7.33 | 7.50 | 5.2 | NA | NA | 98 | 90.1 | 83.5 | ⋯ | NA | NA | NA | NA | NA | NA | NA | NA | NA | NA |\n",
       "| 2011-11-21 | 8.1 | 5.26 | 4.39 | 0.7 | NA | NA | 97 | 87.0 | 85.5 | ⋯ | NA | NA | NA | NA | NA | NA | NA | NA | NA | NA |\n",
       "\n"
      ],
      "text/plain": [
       "     date       max_temperature avg_hourly_temperature avg_temperature\n",
       "1    2022-10-22 12.3             8.88                   9.05          \n",
       "2    2022-10-21 13.0             9.98                  10.30          \n",
       "3    2022-10-20 17.1            13.11                  13.15          \n",
       "⋮    ⋮          ⋮               ⋮                      ⋮              \n",
       "2997 2011-11-23 7.4             5.10                   5.20           \n",
       "2998 2011-11-22 9.8             7.33                   7.50           \n",
       "2999 2011-11-21 8.1             5.26                   4.39           \n",
       "     min_temperature max_humidex min_windchill max_relative_humidity\n",
       "1    5.8             NA          NA            100                  \n",
       "2    7.6             NA          NA            100                  \n",
       "3    9.2             NA          NA            100                  \n",
       "⋮    ⋮               ⋮           ⋮             ⋮                    \n",
       "2997 3.0             NA          NA            98                   \n",
       "2998 5.2             NA          NA            98                   \n",
       "2999 0.7             NA          NA            97                   \n",
       "     avg_hourly_relative_humidity avg_relative_humidity ⋯ avg_cloud_cover_4\n",
       "1    92.0                         85.5                  ⋯ NA               \n",
       "2    84.1                         83.0                  ⋯ NA               \n",
       "3    84.5                         78.5                  ⋯ NA               \n",
       "⋮    ⋮                            ⋮                     ⋱ ⋮                \n",
       "2997 92.1                         90.5                  ⋯ NA               \n",
       "2998 90.1                         83.5                  ⋯ NA               \n",
       "2999 87.0                         85.5                  ⋯ NA               \n",
       "     min_cloud_cover_4 max_cloud_cover_8 avg_hourly_cloud_cover_8\n",
       "1    NA                8                 5.6                     \n",
       "2    NA                8                 7.4                     \n",
       "3    NA                8                 6.1                     \n",
       "⋮    ⋮                 ⋮                 ⋮                       \n",
       "2997 NA                NA                NA                      \n",
       "2998 NA                NA                NA                      \n",
       "2999 NA                NA                NA                      \n",
       "     avg_cloud_cover_8 min_cloud_cover_8 max_cloud_cover_10\n",
       "1    4.5               1                 NA                \n",
       "2    6.0               4                 NA                \n",
       "3    5.5               3                 NA                \n",
       "⋮    ⋮                 ⋮                 ⋮                 \n",
       "2997 NA                NA                NA                \n",
       "2998 NA                NA                NA                \n",
       "2999 NA                NA                NA                \n",
       "     avg_hourly_cloud_cover_10 avg_cloud_cover_10 min_cloud_cover_10\n",
       "1    NA                        NA                 NA                \n",
       "2    NA                        NA                 NA                \n",
       "3    NA                        NA                 NA                \n",
       "⋮    ⋮                         ⋮                  ⋮                 \n",
       "2997 NA                        NA                 NA                \n",
       "2998 NA                        NA                 NA                \n",
       "2999 NA                        NA                 NA                "
      ]
     },
     "metadata": {},
     "output_type": "display_data"
    },
    {
     "name": "stderr",
     "output_type": "stream",
     "text": [
      ">>>>>>> remote <modified: text/html, text/latex, text/markdown, text/plain>\n"
     ]
    }
   ],
   "source": [
    "rain_split <- initial_split(rain_data, 0.75, strata = rain)\n",
    "rain_training <- training(rain_split)\n",
    "rain_testing <- testing(rain_split)\n",
    "rain_training"
   ]
  },
  {
   "cell_type": "markdown",
   "id": "8f4bc848",
   "metadata": {},
   "source": [
    "We then plot different variables against the rainfall to analyze trends and identify which predictors we can use. We know that rainfall. Let's start with some values that are relatively easy to measure (CITATION??): temperature, air pressure, relative humidity, and "
   ]
  },
  {
   "cell_type": "markdown",
   "id": "8cfda9d7",
   "metadata": {
    "tags": []
   },
   "source": [
    "## Methods"
   ]
  },
  {
   "cell_type": "markdown",
   "id": "3e9450db",
   "metadata": {},
   "source": [
    "We start by splitting our data into training and testing data, and ensure we have an even distribution of rainfall values.\n"
   ]
  },
  {
   "cell_type": "markdown",
   "id": "47951a9d",
   "metadata": {},
   "source": [
    "## Expected Outcomes and Significance"
   ]
  },
  {
   "cell_type": "markdown",
   "id": "782db27b",
   "metadata": {},
   "source": [
    "(quick rough draft notes to think about : )\n",
    "- expected that rainfall will fall heavier in winter months rather than the summer\n",
    "(there would be a strong relationship between day of the year and rainfall amount)\n",
    "- temperature is another indicator of rain? the lower the temp the higher chance/amount of rain\n",
    "- extension : impacts of climate change over the recent years \n",
    "\n",
    "\n",
    "\n",
    "\n",
    "\n"
   ]
  },
  {
   "cell_type": "code",
   "execution_count": null,
   "id": "800d3ee0",
   "metadata": {},
   "outputs": [],
   "source": []
  }
 ],
 "metadata": {
  "kernelspec": {
   "display_name": "R",
   "language": "R",
   "name": "ir"
  },
  "language_info": {
   "codemirror_mode": "r",
   "file_extension": ".r",
   "mimetype": "text/x-r-source",
   "name": "R",
   "pygments_lexer": "r",
   "version": "4.1.3"
  }
 },
 "nbformat": 4,
 "nbformat_minor": 5
}
