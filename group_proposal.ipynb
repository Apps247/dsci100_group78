{
 "cells": [
  {
   "cell_type": "markdown",
   "id": "c1ec2d4a-6bf9-4a7c-ae5b-ebee2e55d255",
   "metadata": {
    "tags": []
   },
   "source": [
    "# Title (Group 78 Project Proposal) ** we'll edit in later! "
   ]
  },
  {
   "cell_type": "markdown",
   "id": "a758c4ba-6111-4f49-894d-8ebcb95b3d49",
   "metadata": {
    "tags": []
   },
   "source": [
    "## Introduction\n",
    "\n",
    "### Background Information\n",
    "\n",
    "Vancouver is a rainy city with over 1/3rd of the year raining. How much will it rain in a given day, given certain weather factors? According to ___ studies have shown that machine-learning-based forecast systems can predict the weather just as well as conventional numeric weather models, but at a fraction of the cost. We will try to predict the rainfall for a day, in mm, with a knn-regression model built using a ___ dataset. \n",
    "\n",
    "We have downloaded a [dataset](https://vancouver.weatherstats.ca/download.html) from ____, which shows climate data for vancouver for the past _____. It contains ___ ____ ____. To identify which variables affect the temperature, we will analyze the data and plot graphs _______.\n",
    "\n",
    "- (**our research question is..**\n",
    "- describe why data set is important //)\n",
    "- briefly describe our approach; ex. using regression to predict actual amount of rainfall and comparing that model to see its accuracy\n",
    "\n",
    "\n",
    "\n"
   ]
  },
  {
   "cell_type": "markdown",
   "id": "fa0a8b91-56cd-4cb3-ad6b-f96a2eca169c",
   "metadata": {
    "tags": []
   },
   "source": [
    "## Preliminary Explatory Data Analysis"
   ]
  },
  {
   "cell_type": "code",
   "execution_count": null,
   "id": "2f8fda55-a1f3-44dc-8001-f52bacdd530f",
   "metadata": {},
   "outputs": [
    {
     "name": "stderr",
     "output_type": "stream",
     "text": [
      "── \u001b[1mAttaching packages\u001b[22m ─────────────────────────────────────── tidyverse 1.3.1 ──\n",
      "\n",
      "\u001b[32m✔\u001b[39m \u001b[34mggplot2\u001b[39m 3.3.6     \u001b[32m✔\u001b[39m \u001b[34mpurrr  \u001b[39m 0.3.4\n",
      "\u001b[32m✔\u001b[39m \u001b[34mtibble \u001b[39m 3.1.7     \u001b[32m✔\u001b[39m \u001b[34mdplyr  \u001b[39m 1.0.9\n",
      "\u001b[32m✔\u001b[39m \u001b[34mtidyr  \u001b[39m 1.2.0     \u001b[32m✔\u001b[39m \u001b[34mstringr\u001b[39m 1.4.0\n",
      "\u001b[32m✔\u001b[39m \u001b[34mreadr  \u001b[39m 2.1.2     \u001b[32m✔\u001b[39m \u001b[34mforcats\u001b[39m 0.5.1\n",
      "\n",
      "── \u001b[1mConflicts\u001b[22m ────────────────────────────────────────── tidyverse_conflicts() ──\n",
      "\u001b[31m✖\u001b[39m \u001b[34mdplyr\u001b[39m::\u001b[32mfilter()\u001b[39m masks \u001b[34mstats\u001b[39m::filter()\n",
      "\u001b[31m✖\u001b[39m \u001b[34mdplyr\u001b[39m::\u001b[32mlag()\u001b[39m    masks \u001b[34mstats\u001b[39m::lag()\n",
      "\n",
      "\n",
      "Attaching package: ‘testthat’\n",
      "\n",
      "\n",
      "The following object is masked from ‘package:dplyr’:\n",
      "\n",
      "    matches\n",
      "\n",
      "\n",
      "The following object is masked from ‘package:purrr’:\n",
      "\n",
      "    is_null\n",
      "\n",
      "\n",
      "The following objects are masked from ‘package:readr’:\n",
      "\n",
      "    edition_get, local_edition\n",
      "\n",
      "\n",
      "The following object is masked from ‘package:tidyr’:\n",
      "\n",
      "    matches\n",
      "\n",
      "\n",
      "── \u001b[1mAttaching packages\u001b[22m ────────────────────────────────────── tidymodels 1.0.0 ──\n",
      "\n",
      "\u001b[32m✔\u001b[39m \u001b[34mbroom       \u001b[39m 1.0.0     \u001b[32m✔\u001b[39m \u001b[34mrsample     \u001b[39m 1.0.0\n",
      "\u001b[32m✔\u001b[39m \u001b[34mdials       \u001b[39m 1.0.0     \u001b[32m✔\u001b[39m \u001b[34mtune        \u001b[39m 1.0.0\n",
      "\u001b[32m✔\u001b[39m \u001b[34minfer       \u001b[39m 1.0.2     \u001b[32m✔\u001b[39m \u001b[34mworkflows   \u001b[39m 1.0.0\n",
      "\u001b[32m✔\u001b[39m \u001b[34mmodeldata   \u001b[39m 1.0.0     \u001b[32m✔\u001b[39m \u001b[34mworkflowsets\u001b[39m 1.0.0\n",
      "\u001b[32m✔\u001b[39m \u001b[34mparsnip     \u001b[39m 1.0.0     \u001b[32m✔\u001b[39m \u001b[34myardstick   \u001b[39m 1.0.0\n",
      "\u001b[32m✔\u001b[39m \u001b[34mrecipes     \u001b[39m 1.0.1     \n",
      "\n",
      "── \u001b[1mConflicts\u001b[22m ───────────────────────────────────────── tidymodels_conflicts() ──\n",
      "\u001b[31m✖\u001b[39m \u001b[34mscales\u001b[39m::\u001b[32mdiscard()\u001b[39m   masks \u001b[34mpurrr\u001b[39m::discard()\n",
      "\u001b[31m✖\u001b[39m \u001b[34mdplyr\u001b[39m::\u001b[32mfilter()\u001b[39m     masks \u001b[34mstats\u001b[39m::filter()\n",
      "\u001b[31m✖\u001b[39m \u001b[34mrecipes\u001b[39m::\u001b[32mfixed()\u001b[39m    masks \u001b[34mstringr\u001b[39m::fixed()\n",
      "\u001b[31m✖\u001b[39m \u001b[34mtestthat\u001b[39m::\u001b[32mis_null()\u001b[39m masks \u001b[34mpurrr\u001b[39m::is_null()\n",
      "\u001b[31m✖\u001b[39m \u001b[34mdplyr\u001b[39m::\u001b[32mlag()\u001b[39m        masks \u001b[34mstats\u001b[39m::lag()\n",
      "\u001b[31m✖\u001b[39m \u001b[34mrsample\u001b[39m::\u001b[32mmatches()\u001b[39m  masks \u001b[34mtestthat\u001b[39m::matches(), \u001b[34mdplyr\u001b[39m::matches(), \u001b[34mtidyr\u001b[39m::matches()\n",
      "\u001b[31m✖\u001b[39m \u001b[34myardstick\u001b[39m::\u001b[32mspec()\u001b[39m   masks \u001b[34mreadr\u001b[39m::spec()\n",
      "\u001b[31m✖\u001b[39m \u001b[34mrecipes\u001b[39m::\u001b[32mstep()\u001b[39m     masks \u001b[34mstats\u001b[39m::step()\n",
      "\u001b[34m•\u001b[39m Dig deeper into tidy modeling with R at \u001b[32mhttps://www.tmwr.org\u001b[39m\n",
      "\n"
     ]
    }
   ],
   "source": [
    "library(tidyverse)\n",
    "library(testthat)\n",
    "library(digest)\n",
    "library(repr)\n",
    "library(tidymodels)\n",
    "options(repr.matrix.max.rows = 6)"
   ]
  },
  {
   "cell_type": "markdown",
   "id": "ad1d020c-e0cd-4f81-8064-722d80a2ca5d",
   "metadata": {},
   "source": [
    "Inspecting the data should ___ csv ___ read_csv"
   ]
  },
  {
   "cell_type": "code",
   "execution_count": 5,
   "id": "b68acb7a-c3b1-4120-a70d-5fea450887e7",
   "metadata": {},
   "outputs": [
    {
     "name": "stderr",
     "output_type": "stream",
     "text": [
      "\u001b[1mRows: \u001b[22m\u001b[34m4000\u001b[39m \u001b[1mColumns: \u001b[22m\u001b[34m70\u001b[39m\n",
      "\u001b[36m──\u001b[39m \u001b[1mColumn specification\u001b[22m \u001b[36m────────────────────────────────────────────────────────\u001b[39m\n",
      "\u001b[1mDelimiter:\u001b[22m \",\"\n",
      "\u001b[32mdbl\u001b[39m  (62): max_temperature, avg_hourly_temperature, avg_temperature, min_tem...\n",
      "\u001b[33mlgl\u001b[39m   (5): solar_radiation, max_cloud_cover_4, avg_hourly_cloud_cover_4, avg...\n",
      "\u001b[34mdate\u001b[39m  (1): date\n",
      "\u001b[34mtime\u001b[39m  (2): sunrise, sunset\n",
      "\n",
      "\u001b[36mℹ\u001b[39m Use `spec()` to retrieve the full column specification for this data.\n",
      "\u001b[36mℹ\u001b[39m Specify the column types or set `show_col_types = FALSE` to quiet this message.\n"
     ]
    },
    {
     "data": {
      "text/html": [
       "<table class=\"dataframe\">\n",
       "<caption>A spec_tbl_df: 4000 × 70</caption>\n",
       "<thead>\n",
       "\t<tr><th scope=col>date</th><th scope=col>max_temperature</th><th scope=col>avg_hourly_temperature</th><th scope=col>avg_temperature</th><th scope=col>min_temperature</th><th scope=col>max_humidex</th><th scope=col>min_windchill</th><th scope=col>max_relative_humidity</th><th scope=col>avg_hourly_relative_humidity</th><th scope=col>avg_relative_humidity</th><th scope=col>⋯</th><th scope=col>avg_cloud_cover_4</th><th scope=col>min_cloud_cover_4</th><th scope=col>max_cloud_cover_8</th><th scope=col>avg_hourly_cloud_cover_8</th><th scope=col>avg_cloud_cover_8</th><th scope=col>min_cloud_cover_8</th><th scope=col>max_cloud_cover_10</th><th scope=col>avg_hourly_cloud_cover_10</th><th scope=col>avg_cloud_cover_10</th><th scope=col>min_cloud_cover_10</th></tr>\n",
       "\t<tr><th scope=col>&lt;date&gt;</th><th scope=col>&lt;dbl&gt;</th><th scope=col>&lt;dbl&gt;</th><th scope=col>&lt;dbl&gt;</th><th scope=col>&lt;dbl&gt;</th><th scope=col>&lt;dbl&gt;</th><th scope=col>&lt;dbl&gt;</th><th scope=col>&lt;dbl&gt;</th><th scope=col>&lt;dbl&gt;</th><th scope=col>&lt;dbl&gt;</th><th scope=col>⋯</th><th scope=col>&lt;lgl&gt;</th><th scope=col>&lt;lgl&gt;</th><th scope=col>&lt;dbl&gt;</th><th scope=col>&lt;dbl&gt;</th><th scope=col>&lt;dbl&gt;</th><th scope=col>&lt;dbl&gt;</th><th scope=col>&lt;dbl&gt;</th><th scope=col>&lt;dbl&gt;</th><th scope=col>&lt;dbl&gt;</th><th scope=col>&lt;dbl&gt;</th></tr>\n",
       "</thead>\n",
       "<tbody>\n",
       "\t<tr><td>2022-10-25</td><td> 9.9</td><td>8.86</td><td> 8.69</td><td>7.5</td><td>NA</td><td>NA</td><td>100</td><td>97.5</td><td>93.5</td><td>⋯</td><td>NA</td><td>NA</td><td>8</td><td>8.0</td><td>7.5</td><td>7</td><td>NA</td><td>NA</td><td>NA</td><td>NA</td></tr>\n",
       "\t<tr><td>2022-10-24</td><td>13.3</td><td>9.51</td><td>10.35</td><td>7.4</td><td>NA</td><td>NA</td><td>100</td><td>94.5</td><td>86.0</td><td>⋯</td><td>NA</td><td>NA</td><td>8</td><td>6.4</td><td>4.5</td><td>1</td><td>NA</td><td>NA</td><td>NA</td><td>NA</td></tr>\n",
       "\t<tr><td>2022-10-23</td><td>11.9</td><td>8.70</td><td> 7.60</td><td>3.3</td><td>NA</td><td>NA</td><td>100</td><td>89.3</td><td>83.0</td><td>⋯</td><td>NA</td><td>NA</td><td>8</td><td>6.9</td><td>4.5</td><td>1</td><td>NA</td><td>NA</td><td>NA</td><td>NA</td></tr>\n",
       "\t<tr><td>⋮</td><td>⋮</td><td>⋮</td><td>⋮</td><td>⋮</td><td>⋮</td><td>⋮</td><td>⋮</td><td>⋮</td><td>⋮</td><td>⋱</td><td>⋮</td><td>⋮</td><td>⋮</td><td>⋮</td><td>⋮</td><td>⋮</td><td>⋮</td><td>⋮</td><td>⋮</td><td>⋮</td></tr>\n",
       "\t<tr><td>2011-11-15</td><td>7.8</td><td>3.44</td><td>3.80</td><td>-0.2</td><td>NA</td><td>NA</td><td>91</td><td>79.8</td><td>77.5</td><td>⋯</td><td>NA</td><td>NA</td><td>NA</td><td>NA</td><td>NA</td><td>NA</td><td>NA</td><td>NA</td><td>NA</td><td>NA</td></tr>\n",
       "\t<tr><td>2011-11-14</td><td>7.6</td><td>5.92</td><td>6.00</td><td> 4.4</td><td>NA</td><td>NA</td><td>93</td><td>69.6</td><td>73.5</td><td>⋯</td><td>NA</td><td>NA</td><td>NA</td><td>NA</td><td>NA</td><td>NA</td><td>NA</td><td>NA</td><td>NA</td><td>NA</td></tr>\n",
       "\t<tr><td>2011-11-13</td><td>8.7</td><td>6.71</td><td>6.55</td><td> 4.4</td><td>NA</td><td>NA</td><td>94</td><td>86.4</td><td>85.0</td><td>⋯</td><td>NA</td><td>NA</td><td>NA</td><td>NA</td><td>NA</td><td>NA</td><td>NA</td><td>NA</td><td>NA</td><td>NA</td></tr>\n",
       "</tbody>\n",
       "</table>\n"
      ],
      "text/latex": [
       "A spec\\_tbl\\_df: 4000 × 70\n",
       "\\begin{tabular}{lllllllllllllllllllll}\n",
       " date & max\\_temperature & avg\\_hourly\\_temperature & avg\\_temperature & min\\_temperature & max\\_humidex & min\\_windchill & max\\_relative\\_humidity & avg\\_hourly\\_relative\\_humidity & avg\\_relative\\_humidity & ⋯ & avg\\_cloud\\_cover\\_4 & min\\_cloud\\_cover\\_4 & max\\_cloud\\_cover\\_8 & avg\\_hourly\\_cloud\\_cover\\_8 & avg\\_cloud\\_cover\\_8 & min\\_cloud\\_cover\\_8 & max\\_cloud\\_cover\\_10 & avg\\_hourly\\_cloud\\_cover\\_10 & avg\\_cloud\\_cover\\_10 & min\\_cloud\\_cover\\_10\\\\\n",
       " <date> & <dbl> & <dbl> & <dbl> & <dbl> & <dbl> & <dbl> & <dbl> & <dbl> & <dbl> & ⋯ & <lgl> & <lgl> & <dbl> & <dbl> & <dbl> & <dbl> & <dbl> & <dbl> & <dbl> & <dbl>\\\\\n",
       "\\hline\n",
       "\t 2022-10-25 &  9.9 & 8.86 &  8.69 & 7.5 & NA & NA & 100 & 97.5 & 93.5 & ⋯ & NA & NA & 8 & 8.0 & 7.5 & 7 & NA & NA & NA & NA\\\\\n",
       "\t 2022-10-24 & 13.3 & 9.51 & 10.35 & 7.4 & NA & NA & 100 & 94.5 & 86.0 & ⋯ & NA & NA & 8 & 6.4 & 4.5 & 1 & NA & NA & NA & NA\\\\\n",
       "\t 2022-10-23 & 11.9 & 8.70 &  7.60 & 3.3 & NA & NA & 100 & 89.3 & 83.0 & ⋯ & NA & NA & 8 & 6.9 & 4.5 & 1 & NA & NA & NA & NA\\\\\n",
       "\t ⋮ & ⋮ & ⋮ & ⋮ & ⋮ & ⋮ & ⋮ & ⋮ & ⋮ & ⋮ & ⋱ & ⋮ & ⋮ & ⋮ & ⋮ & ⋮ & ⋮ & ⋮ & ⋮ & ⋮ & ⋮\\\\\n",
       "\t 2011-11-15 & 7.8 & 3.44 & 3.80 & -0.2 & NA & NA & 91 & 79.8 & 77.5 & ⋯ & NA & NA & NA & NA & NA & NA & NA & NA & NA & NA\\\\\n",
       "\t 2011-11-14 & 7.6 & 5.92 & 6.00 &  4.4 & NA & NA & 93 & 69.6 & 73.5 & ⋯ & NA & NA & NA & NA & NA & NA & NA & NA & NA & NA\\\\\n",
       "\t 2011-11-13 & 8.7 & 6.71 & 6.55 &  4.4 & NA & NA & 94 & 86.4 & 85.0 & ⋯ & NA & NA & NA & NA & NA & NA & NA & NA & NA & NA\\\\\n",
       "\\end{tabular}\n"
      ],
      "text/markdown": [
       "\n",
       "A spec_tbl_df: 4000 × 70\n",
       "\n",
       "| date &lt;date&gt; | max_temperature &lt;dbl&gt; | avg_hourly_temperature &lt;dbl&gt; | avg_temperature &lt;dbl&gt; | min_temperature &lt;dbl&gt; | max_humidex &lt;dbl&gt; | min_windchill &lt;dbl&gt; | max_relative_humidity &lt;dbl&gt; | avg_hourly_relative_humidity &lt;dbl&gt; | avg_relative_humidity &lt;dbl&gt; | ⋯ ⋯ | avg_cloud_cover_4 &lt;lgl&gt; | min_cloud_cover_4 &lt;lgl&gt; | max_cloud_cover_8 &lt;dbl&gt; | avg_hourly_cloud_cover_8 &lt;dbl&gt; | avg_cloud_cover_8 &lt;dbl&gt; | min_cloud_cover_8 &lt;dbl&gt; | max_cloud_cover_10 &lt;dbl&gt; | avg_hourly_cloud_cover_10 &lt;dbl&gt; | avg_cloud_cover_10 &lt;dbl&gt; | min_cloud_cover_10 &lt;dbl&gt; |\n",
       "|---|---|---|---|---|---|---|---|---|---|---|---|---|---|---|---|---|---|---|---|---|\n",
       "| 2022-10-25 |  9.9 | 8.86 |  8.69 | 7.5 | NA | NA | 100 | 97.5 | 93.5 | ⋯ | NA | NA | 8 | 8.0 | 7.5 | 7 | NA | NA | NA | NA |\n",
       "| 2022-10-24 | 13.3 | 9.51 | 10.35 | 7.4 | NA | NA | 100 | 94.5 | 86.0 | ⋯ | NA | NA | 8 | 6.4 | 4.5 | 1 | NA | NA | NA | NA |\n",
       "| 2022-10-23 | 11.9 | 8.70 |  7.60 | 3.3 | NA | NA | 100 | 89.3 | 83.0 | ⋯ | NA | NA | 8 | 6.9 | 4.5 | 1 | NA | NA | NA | NA |\n",
       "| ⋮ | ⋮ | ⋮ | ⋮ | ⋮ | ⋮ | ⋮ | ⋮ | ⋮ | ⋮ | ⋱ | ⋮ | ⋮ | ⋮ | ⋮ | ⋮ | ⋮ | ⋮ | ⋮ | ⋮ | ⋮ |\n",
       "| 2011-11-15 | 7.8 | 3.44 | 3.80 | -0.2 | NA | NA | 91 | 79.8 | 77.5 | ⋯ | NA | NA | NA | NA | NA | NA | NA | NA | NA | NA |\n",
       "| 2011-11-14 | 7.6 | 5.92 | 6.00 |  4.4 | NA | NA | 93 | 69.6 | 73.5 | ⋯ | NA | NA | NA | NA | NA | NA | NA | NA | NA | NA |\n",
       "| 2011-11-13 | 8.7 | 6.71 | 6.55 |  4.4 | NA | NA | 94 | 86.4 | 85.0 | ⋯ | NA | NA | NA | NA | NA | NA | NA | NA | NA | NA |\n",
       "\n"
      ],
      "text/plain": [
       "     date       max_temperature avg_hourly_temperature avg_temperature\n",
       "1    2022-10-25  9.9            8.86                    8.69          \n",
       "2    2022-10-24 13.3            9.51                   10.35          \n",
       "3    2022-10-23 11.9            8.70                    7.60          \n",
       "⋮    ⋮          ⋮               ⋮                      ⋮              \n",
       "3998 2011-11-15 7.8             3.44                   3.80           \n",
       "3999 2011-11-14 7.6             5.92                   6.00           \n",
       "4000 2011-11-13 8.7             6.71                   6.55           \n",
       "     min_temperature max_humidex min_windchill max_relative_humidity\n",
       "1    7.5             NA          NA            100                  \n",
       "2    7.4             NA          NA            100                  \n",
       "3    3.3             NA          NA            100                  \n",
       "⋮    ⋮               ⋮           ⋮             ⋮                    \n",
       "3998 -0.2            NA          NA            91                   \n",
       "3999  4.4            NA          NA            93                   \n",
       "4000  4.4            NA          NA            94                   \n",
       "     avg_hourly_relative_humidity avg_relative_humidity ⋯ avg_cloud_cover_4\n",
       "1    97.5                         93.5                  ⋯ NA               \n",
       "2    94.5                         86.0                  ⋯ NA               \n",
       "3    89.3                         83.0                  ⋯ NA               \n",
       "⋮    ⋮                            ⋮                     ⋱ ⋮                \n",
       "3998 79.8                         77.5                  ⋯ NA               \n",
       "3999 69.6                         73.5                  ⋯ NA               \n",
       "4000 86.4                         85.0                  ⋯ NA               \n",
       "     min_cloud_cover_4 max_cloud_cover_8 avg_hourly_cloud_cover_8\n",
       "1    NA                8                 8.0                     \n",
       "2    NA                8                 6.4                     \n",
       "3    NA                8                 6.9                     \n",
       "⋮    ⋮                 ⋮                 ⋮                       \n",
       "3998 NA                NA                NA                      \n",
       "3999 NA                NA                NA                      \n",
       "4000 NA                NA                NA                      \n",
       "     avg_cloud_cover_8 min_cloud_cover_8 max_cloud_cover_10\n",
       "1    7.5               7                 NA                \n",
       "2    4.5               1                 NA                \n",
       "3    4.5               1                 NA                \n",
       "⋮    ⋮                 ⋮                 ⋮                 \n",
       "3998 NA                NA                NA                \n",
       "3999 NA                NA                NA                \n",
       "4000 NA                NA                NA                \n",
       "     avg_hourly_cloud_cover_10 avg_cloud_cover_10 min_cloud_cover_10\n",
       "1    NA                        NA                 NA                \n",
       "2    NA                        NA                 NA                \n",
       "3    NA                        NA                 NA                \n",
       "⋮    ⋮                         ⋮                  ⋮                 \n",
       "3998 NA                        NA                 NA                \n",
       "3999 NA                        NA                 NA                \n",
       "4000 NA                        NA                 NA                "
      ]
     },
     "metadata": {},
     "output_type": "display_data"
    }
   ],
   "source": [
    "rain_data <- read_csv(\"data/weatherstats_vancouver_daily.csv\")\n",
    "rain_data"
   ]
  },
  {
   "cell_type": "markdown",
   "id": "b433d16a-3039-47d7-be78-3d783f64a987",
   "metadata": {},
   "source": [
    "Taking a glimpse of our data shows that it is __tidy. We will remove the dew_point column since dew point is just a calculation involving __, __, __"
   ]
  },
  {
   "cell_type": "markdown",
   "id": "f1e3608b-e78e-44fa-8490-f211cd64f24b",
   "metadata": {},
   "source": [
    "### Wrangling"
   ]
  },
  {
   "cell_type": "markdown",
   "id": "996735e4-babe-43ea-a964-c3b80566b23e",
   "metadata": {},
   "source": [
    "We start by wrangling the data into a ___ format. ___ says that the three factors that influence rain primarily are **temperature, humidity, and windspeed**. Our dataset provides **daily averages** for each. "
   ]
  },
  {
   "cell_type": "markdown",
   "id": "2e7fefde-eabe-4749-8c41-83d926c7abb4",
   "metadata": {},
   "source": [
    "We filter out rows !!! where measurements are NA, because this could affect the knn algorithm’s accuracy? Since we have over ___ and only a few columns have NA, this should not bias our model too much."
   ]
  },
  {
   "cell_type": "code",
   "execution_count": 17,
   "id": "0cb11f14-4003-4cdc-9af1-0599021555d3",
   "metadata": {},
   "outputs": [
    {
     "data": {
      "text/html": [
       "<table class=\"dataframe\">\n",
       "<caption>A tibble: 1758 × 6</caption>\n",
       "<thead>\n",
       "\t<tr><th scope=col>date</th><th scope=col>avg_temperature</th><th scope=col>avg_relative_humidity</th><th scope=col>avg_wind_speed</th><th scope=col>rain</th><th scope=col>rain_flag</th></tr>\n",
       "\t<tr><th scope=col>&lt;date&gt;</th><th scope=col>&lt;dbl&gt;</th><th scope=col>&lt;dbl&gt;</th><th scope=col>&lt;dbl&gt;</th><th scope=col>&lt;dbl&gt;</th><th scope=col>&lt;lgl&gt;</th></tr>\n",
       "</thead>\n",
       "<tbody>\n",
       "\t<tr><td>2022-10-24</td><td>10.35</td><td>86.0</td><td>18.5</td><td>13.0</td><td>TRUE</td></tr>\n",
       "\t<tr><td>2022-10-23</td><td> 7.60</td><td>83.0</td><td> 9.5</td><td> 6.7</td><td>TRUE</td></tr>\n",
       "\t<tr><td>2022-10-22</td><td> 9.05</td><td>85.5</td><td> 6.5</td><td> 0.2</td><td>TRUE</td></tr>\n",
       "\t<tr><td>⋮</td><td>⋮</td><td>⋮</td><td>⋮</td><td>⋮</td><td>⋮</td></tr>\n",
       "\t<tr><td>2011-11-18</td><td>1.95</td><td>91.5</td><td> 9.5</td><td> 1.2</td><td>TRUE</td></tr>\n",
       "\t<tr><td>2011-11-17</td><td>4.39</td><td>75.5</td><td>24.0</td><td> 1.4</td><td>TRUE</td></tr>\n",
       "\t<tr><td>2011-11-16</td><td>4.15</td><td>83.5</td><td>24.0</td><td>11.8</td><td>TRUE</td></tr>\n",
       "</tbody>\n",
       "</table>\n"
      ],
      "text/latex": [
       "A tibble: 1758 × 6\n",
       "\\begin{tabular}{llllll}\n",
       " date & avg\\_temperature & avg\\_relative\\_humidity & avg\\_wind\\_speed & rain & rain\\_flag\\\\\n",
       " <date> & <dbl> & <dbl> & <dbl> & <dbl> & <lgl>\\\\\n",
       "\\hline\n",
       "\t 2022-10-24 & 10.35 & 86.0 & 18.5 & 13.0 & TRUE\\\\\n",
       "\t 2022-10-23 &  7.60 & 83.0 &  9.5 &  6.7 & TRUE\\\\\n",
       "\t 2022-10-22 &  9.05 & 85.5 &  6.5 &  0.2 & TRUE\\\\\n",
       "\t ⋮ & ⋮ & ⋮ & ⋮ & ⋮ & ⋮\\\\\n",
       "\t 2011-11-18 & 1.95 & 91.5 &  9.5 &  1.2 & TRUE\\\\\n",
       "\t 2011-11-17 & 4.39 & 75.5 & 24.0 &  1.4 & TRUE\\\\\n",
       "\t 2011-11-16 & 4.15 & 83.5 & 24.0 & 11.8 & TRUE\\\\\n",
       "\\end{tabular}\n"
      ],
      "text/markdown": [
       "\n",
       "A tibble: 1758 × 6\n",
       "\n",
       "| date &lt;date&gt; | avg_temperature &lt;dbl&gt; | avg_relative_humidity &lt;dbl&gt; | avg_wind_speed &lt;dbl&gt; | rain &lt;dbl&gt; | rain_flag &lt;lgl&gt; |\n",
       "|---|---|---|---|---|---|\n",
       "| 2022-10-24 | 10.35 | 86.0 | 18.5 | 13.0 | TRUE |\n",
       "| 2022-10-23 |  7.60 | 83.0 |  9.5 |  6.7 | TRUE |\n",
       "| 2022-10-22 |  9.05 | 85.5 |  6.5 |  0.2 | TRUE |\n",
       "| ⋮ | ⋮ | ⋮ | ⋮ | ⋮ | ⋮ |\n",
       "| 2011-11-18 | 1.95 | 91.5 |  9.5 |  1.2 | TRUE |\n",
       "| 2011-11-17 | 4.39 | 75.5 | 24.0 |  1.4 | TRUE |\n",
       "| 2011-11-16 | 4.15 | 83.5 | 24.0 | 11.8 | TRUE |\n",
       "\n"
      ],
      "text/plain": [
       "     date       avg_temperature avg_relative_humidity avg_wind_speed rain\n",
       "1    2022-10-24 10.35           86.0                  18.5           13.0\n",
       "2    2022-10-23  7.60           83.0                   9.5            6.7\n",
       "3    2022-10-22  9.05           85.5                   6.5            0.2\n",
       "⋮    ⋮          ⋮               ⋮                     ⋮              ⋮   \n",
       "1756 2011-11-18 1.95            91.5                   9.5            1.2\n",
       "1757 2011-11-17 4.39            75.5                  24.0            1.4\n",
       "1758 2011-11-16 4.15            83.5                  24.0           11.8\n",
       "     rain_flag\n",
       "1    TRUE     \n",
       "2    TRUE     \n",
       "3    TRUE     \n",
       "⋮    ⋮        \n",
       "1756 TRUE     \n",
       "1757 TRUE     \n",
       "1758 TRUE     "
      ]
     },
     "metadata": {},
     "output_type": "display_data"
    }
   ],
   "source": [
    "rain_data |> \n",
    "            filter(rain>0)|>\n",
    "            select(date, avg_temperature, avg_relative_humidity, avg_wind_speed, rain) |> \n",
    "            mutate(rain_flag = (rain > 0))"
   ]
  },
  {
   "cell_type": "markdown",
   "id": "b91b983f-1495-4930-96a2-fba80064875b",
   "metadata": {},
   "source": [
    "### HEADING VISUALIZATION"
   ]
  },
  {
   "cell_type": "code",
   "execution_count": null,
   "id": "2a473d6d-b6b0-49eb-8b94-3e2d8eda5012",
   "metadata": {},
   "outputs": [],
   "source": [
    "options(repr.plot.width = 8, repr.plot.height = 7)\n",
    "small_weather <- slice_sample(weather, n = 100)"
   ]
  },
  {
   "cell_type": "code",
   "execution_count": 18,
   "id": "9dcdc6ca-cefd-4caf-b4ce-0dbd35ad0f84",
   "metadata": {},
   "outputs": [
    {
     "data": {
      "text/html": [
       "<table class=\"dataframe\">\n",
       "<caption>A tibble: 3000 × 70</caption>\n",
       "<thead>\n",
       "\t<tr><th scope=col>date</th><th scope=col>max_temperature</th><th scope=col>avg_hourly_temperature</th><th scope=col>avg_temperature</th><th scope=col>min_temperature</th><th scope=col>max_humidex</th><th scope=col>min_windchill</th><th scope=col>max_relative_humidity</th><th scope=col>avg_hourly_relative_humidity</th><th scope=col>avg_relative_humidity</th><th scope=col>⋯</th><th scope=col>avg_cloud_cover_4</th><th scope=col>min_cloud_cover_4</th><th scope=col>max_cloud_cover_8</th><th scope=col>avg_hourly_cloud_cover_8</th><th scope=col>avg_cloud_cover_8</th><th scope=col>min_cloud_cover_8</th><th scope=col>max_cloud_cover_10</th><th scope=col>avg_hourly_cloud_cover_10</th><th scope=col>avg_cloud_cover_10</th><th scope=col>min_cloud_cover_10</th></tr>\n",
       "\t<tr><th scope=col>&lt;date&gt;</th><th scope=col>&lt;dbl&gt;</th><th scope=col>&lt;dbl&gt;</th><th scope=col>&lt;dbl&gt;</th><th scope=col>&lt;dbl&gt;</th><th scope=col>&lt;dbl&gt;</th><th scope=col>&lt;dbl&gt;</th><th scope=col>&lt;dbl&gt;</th><th scope=col>&lt;dbl&gt;</th><th scope=col>&lt;dbl&gt;</th><th scope=col>⋯</th><th scope=col>&lt;lgl&gt;</th><th scope=col>&lt;lgl&gt;</th><th scope=col>&lt;dbl&gt;</th><th scope=col>&lt;dbl&gt;</th><th scope=col>&lt;dbl&gt;</th><th scope=col>&lt;dbl&gt;</th><th scope=col>&lt;dbl&gt;</th><th scope=col>&lt;dbl&gt;</th><th scope=col>&lt;dbl&gt;</th><th scope=col>&lt;dbl&gt;</th></tr>\n",
       "</thead>\n",
       "<tbody>\n",
       "\t<tr><td>2022-10-25</td><td> 9.9</td><td> 8.86</td><td> 8.69</td><td>7.5</td><td>NA</td><td>NA</td><td>100</td><td>97.5</td><td>93.5</td><td>⋯</td><td>NA</td><td>NA</td><td>8</td><td>8.0</td><td>7.5</td><td>7</td><td>NA</td><td>NA</td><td>NA</td><td>NA</td></tr>\n",
       "\t<tr><td>2022-10-21</td><td>13.0</td><td> 9.98</td><td>10.30</td><td>7.6</td><td>NA</td><td>NA</td><td>100</td><td>84.1</td><td>83.0</td><td>⋯</td><td>NA</td><td>NA</td><td>8</td><td>7.4</td><td>6.0</td><td>4</td><td>NA</td><td>NA</td><td>NA</td><td>NA</td></tr>\n",
       "\t<tr><td>2022-10-20</td><td>17.1</td><td>13.11</td><td>13.15</td><td>9.2</td><td>NA</td><td>NA</td><td>100</td><td>84.5</td><td>78.5</td><td>⋯</td><td>NA</td><td>NA</td><td>8</td><td>6.1</td><td>5.5</td><td>3</td><td>NA</td><td>NA</td><td>NA</td><td>NA</td></tr>\n",
       "\t<tr><td>⋮</td><td>⋮</td><td>⋮</td><td>⋮</td><td>⋮</td><td>⋮</td><td>⋮</td><td>⋮</td><td>⋮</td><td>⋮</td><td>⋱</td><td>⋮</td><td>⋮</td><td>⋮</td><td>⋮</td><td>⋮</td><td>⋮</td><td>⋮</td><td>⋮</td><td>⋮</td><td>⋮</td></tr>\n",
       "\t<tr><td>2011-11-23</td><td>7.4</td><td>5.10</td><td>5.20</td><td> 3.0</td><td>NA</td><td>NA</td><td>98</td><td>92.1</td><td>90.5</td><td>⋯</td><td>NA</td><td>NA</td><td>NA</td><td>NA</td><td>NA</td><td>NA</td><td>NA</td><td>NA</td><td>NA</td><td>NA</td></tr>\n",
       "\t<tr><td>2011-11-22</td><td>9.8</td><td>7.33</td><td>7.50</td><td> 5.2</td><td>NA</td><td>NA</td><td>98</td><td>90.1</td><td>83.5</td><td>⋯</td><td>NA</td><td>NA</td><td>NA</td><td>NA</td><td>NA</td><td>NA</td><td>NA</td><td>NA</td><td>NA</td><td>NA</td></tr>\n",
       "\t<tr><td>2011-11-16</td><td>8.4</td><td>3.99</td><td>4.15</td><td>-0.1</td><td>NA</td><td>NA</td><td>99</td><td>88.2</td><td>83.5</td><td>⋯</td><td>NA</td><td>NA</td><td>NA</td><td>NA</td><td>NA</td><td>NA</td><td>NA</td><td>NA</td><td>NA</td><td>NA</td></tr>\n",
       "</tbody>\n",
       "</table>\n"
      ],
      "text/latex": [
       "A tibble: 3000 × 70\n",
       "\\begin{tabular}{lllllllllllllllllllll}\n",
       " date & max\\_temperature & avg\\_hourly\\_temperature & avg\\_temperature & min\\_temperature & max\\_humidex & min\\_windchill & max\\_relative\\_humidity & avg\\_hourly\\_relative\\_humidity & avg\\_relative\\_humidity & ⋯ & avg\\_cloud\\_cover\\_4 & min\\_cloud\\_cover\\_4 & max\\_cloud\\_cover\\_8 & avg\\_hourly\\_cloud\\_cover\\_8 & avg\\_cloud\\_cover\\_8 & min\\_cloud\\_cover\\_8 & max\\_cloud\\_cover\\_10 & avg\\_hourly\\_cloud\\_cover\\_10 & avg\\_cloud\\_cover\\_10 & min\\_cloud\\_cover\\_10\\\\\n",
       " <date> & <dbl> & <dbl> & <dbl> & <dbl> & <dbl> & <dbl> & <dbl> & <dbl> & <dbl> & ⋯ & <lgl> & <lgl> & <dbl> & <dbl> & <dbl> & <dbl> & <dbl> & <dbl> & <dbl> & <dbl>\\\\\n",
       "\\hline\n",
       "\t 2022-10-25 &  9.9 &  8.86 &  8.69 & 7.5 & NA & NA & 100 & 97.5 & 93.5 & ⋯ & NA & NA & 8 & 8.0 & 7.5 & 7 & NA & NA & NA & NA\\\\\n",
       "\t 2022-10-21 & 13.0 &  9.98 & 10.30 & 7.6 & NA & NA & 100 & 84.1 & 83.0 & ⋯ & NA & NA & 8 & 7.4 & 6.0 & 4 & NA & NA & NA & NA\\\\\n",
       "\t 2022-10-20 & 17.1 & 13.11 & 13.15 & 9.2 & NA & NA & 100 & 84.5 & 78.5 & ⋯ & NA & NA & 8 & 6.1 & 5.5 & 3 & NA & NA & NA & NA\\\\\n",
       "\t ⋮ & ⋮ & ⋮ & ⋮ & ⋮ & ⋮ & ⋮ & ⋮ & ⋮ & ⋮ & ⋱ & ⋮ & ⋮ & ⋮ & ⋮ & ⋮ & ⋮ & ⋮ & ⋮ & ⋮ & ⋮\\\\\n",
       "\t 2011-11-23 & 7.4 & 5.10 & 5.20 &  3.0 & NA & NA & 98 & 92.1 & 90.5 & ⋯ & NA & NA & NA & NA & NA & NA & NA & NA & NA & NA\\\\\n",
       "\t 2011-11-22 & 9.8 & 7.33 & 7.50 &  5.2 & NA & NA & 98 & 90.1 & 83.5 & ⋯ & NA & NA & NA & NA & NA & NA & NA & NA & NA & NA\\\\\n",
       "\t 2011-11-16 & 8.4 & 3.99 & 4.15 & -0.1 & NA & NA & 99 & 88.2 & 83.5 & ⋯ & NA & NA & NA & NA & NA & NA & NA & NA & NA & NA\\\\\n",
       "\\end{tabular}\n"
      ],
      "text/markdown": [
       "\n",
       "A tibble: 3000 × 70\n",
       "\n",
       "| date &lt;date&gt; | max_temperature &lt;dbl&gt; | avg_hourly_temperature &lt;dbl&gt; | avg_temperature &lt;dbl&gt; | min_temperature &lt;dbl&gt; | max_humidex &lt;dbl&gt; | min_windchill &lt;dbl&gt; | max_relative_humidity &lt;dbl&gt; | avg_hourly_relative_humidity &lt;dbl&gt; | avg_relative_humidity &lt;dbl&gt; | ⋯ ⋯ | avg_cloud_cover_4 &lt;lgl&gt; | min_cloud_cover_4 &lt;lgl&gt; | max_cloud_cover_8 &lt;dbl&gt; | avg_hourly_cloud_cover_8 &lt;dbl&gt; | avg_cloud_cover_8 &lt;dbl&gt; | min_cloud_cover_8 &lt;dbl&gt; | max_cloud_cover_10 &lt;dbl&gt; | avg_hourly_cloud_cover_10 &lt;dbl&gt; | avg_cloud_cover_10 &lt;dbl&gt; | min_cloud_cover_10 &lt;dbl&gt; |\n",
       "|---|---|---|---|---|---|---|---|---|---|---|---|---|---|---|---|---|---|---|---|---|\n",
       "| 2022-10-25 |  9.9 |  8.86 |  8.69 | 7.5 | NA | NA | 100 | 97.5 | 93.5 | ⋯ | NA | NA | 8 | 8.0 | 7.5 | 7 | NA | NA | NA | NA |\n",
       "| 2022-10-21 | 13.0 |  9.98 | 10.30 | 7.6 | NA | NA | 100 | 84.1 | 83.0 | ⋯ | NA | NA | 8 | 7.4 | 6.0 | 4 | NA | NA | NA | NA |\n",
       "| 2022-10-20 | 17.1 | 13.11 | 13.15 | 9.2 | NA | NA | 100 | 84.5 | 78.5 | ⋯ | NA | NA | 8 | 6.1 | 5.5 | 3 | NA | NA | NA | NA |\n",
       "| ⋮ | ⋮ | ⋮ | ⋮ | ⋮ | ⋮ | ⋮ | ⋮ | ⋮ | ⋮ | ⋱ | ⋮ | ⋮ | ⋮ | ⋮ | ⋮ | ⋮ | ⋮ | ⋮ | ⋮ | ⋮ |\n",
       "| 2011-11-23 | 7.4 | 5.10 | 5.20 |  3.0 | NA | NA | 98 | 92.1 | 90.5 | ⋯ | NA | NA | NA | NA | NA | NA | NA | NA | NA | NA |\n",
       "| 2011-11-22 | 9.8 | 7.33 | 7.50 |  5.2 | NA | NA | 98 | 90.1 | 83.5 | ⋯ | NA | NA | NA | NA | NA | NA | NA | NA | NA | NA |\n",
       "| 2011-11-16 | 8.4 | 3.99 | 4.15 | -0.1 | NA | NA | 99 | 88.2 | 83.5 | ⋯ | NA | NA | NA | NA | NA | NA | NA | NA | NA | NA |\n",
       "\n"
      ],
      "text/plain": [
       "     date       max_temperature avg_hourly_temperature avg_temperature\n",
       "1    2022-10-25  9.9             8.86                   8.69          \n",
       "2    2022-10-21 13.0             9.98                  10.30          \n",
       "3    2022-10-20 17.1            13.11                  13.15          \n",
       "⋮    ⋮          ⋮               ⋮                      ⋮              \n",
       "2998 2011-11-23 7.4             5.10                   5.20           \n",
       "2999 2011-11-22 9.8             7.33                   7.50           \n",
       "3000 2011-11-16 8.4             3.99                   4.15           \n",
       "     min_temperature max_humidex min_windchill max_relative_humidity\n",
       "1    7.5             NA          NA            100                  \n",
       "2    7.6             NA          NA            100                  \n",
       "3    9.2             NA          NA            100                  \n",
       "⋮    ⋮               ⋮           ⋮             ⋮                    \n",
       "2998  3.0            NA          NA            98                   \n",
       "2999  5.2            NA          NA            98                   \n",
       "3000 -0.1            NA          NA            99                   \n",
       "     avg_hourly_relative_humidity avg_relative_humidity ⋯ avg_cloud_cover_4\n",
       "1    97.5                         93.5                  ⋯ NA               \n",
       "2    84.1                         83.0                  ⋯ NA               \n",
       "3    84.5                         78.5                  ⋯ NA               \n",
       "⋮    ⋮                            ⋮                     ⋱ ⋮                \n",
       "2998 92.1                         90.5                  ⋯ NA               \n",
       "2999 90.1                         83.5                  ⋯ NA               \n",
       "3000 88.2                         83.5                  ⋯ NA               \n",
       "     min_cloud_cover_4 max_cloud_cover_8 avg_hourly_cloud_cover_8\n",
       "1    NA                8                 8.0                     \n",
       "2    NA                8                 7.4                     \n",
       "3    NA                8                 6.1                     \n",
       "⋮    ⋮                 ⋮                 ⋮                       \n",
       "2998 NA                NA                NA                      \n",
       "2999 NA                NA                NA                      \n",
       "3000 NA                NA                NA                      \n",
       "     avg_cloud_cover_8 min_cloud_cover_8 max_cloud_cover_10\n",
       "1    7.5               7                 NA                \n",
       "2    6.0               4                 NA                \n",
       "3    5.5               3                 NA                \n",
       "⋮    ⋮                 ⋮                 ⋮                 \n",
       "2998 NA                NA                NA                \n",
       "2999 NA                NA                NA                \n",
       "3000 NA                NA                NA                \n",
       "     avg_hourly_cloud_cover_10 avg_cloud_cover_10 min_cloud_cover_10\n",
       "1    NA                        NA                 NA                \n",
       "2    NA                        NA                 NA                \n",
       "3    NA                        NA                 NA                \n",
       "⋮    ⋮                         ⋮                  ⋮                 \n",
       "2998 NA                        NA                 NA                \n",
       "2999 NA                        NA                 NA                \n",
       "3000 NA                        NA                 NA                "
      ]
     },
     "metadata": {},
     "output_type": "display_data"
    }
   ],
   "source": [
    "rain_split <- initial_split(rain_data, 0.75, strata = rain)\n",
    "rain_training <- training(rain_split)\n",
    "rain_testing <- testing(rain_split)\n",
    "rain_training"
   ]
  },
  {
   "cell_type": "code",
   "execution_count": null,
   "id": "90adfe1f-f99c-416b-9907-3b44194a42bc",
   "metadata": {},
   "outputs": [],
   "source": []
  },
  {
   "cell_type": "markdown",
   "id": "480dd6b6-ef4e-494f-ad7d-d10049b0cbe8",
   "metadata": {
    "tags": []
   },
   "source": [
    "## Methods"
   ]
  },
  {
   "cell_type": "code",
   "execution_count": null,
   "id": "45b9711e-9371-49a4-8355-6a433160bc05",
   "metadata": {},
   "outputs": [],
   "source": [
    "We start by splitting our data into training and testing data, and ensure we have an even distribution of rainfall values.\n"
   ]
  },
  {
   "cell_type": "markdown",
   "id": "bc61d0cf-fa46-482b-8928-9c7262339b5d",
   "metadata": {},
   "source": [
    "## Expected Outcomes and Significance"
   ]
  },
  {
   "cell_type": "markdown",
   "id": "947af8fa-aee5-45c3-a9f0-b961141f593b",
   "metadata": {},
   "source": [
    "(quick rough draft notes to think about : )\n",
    "- expected that rainfall will fall heavier in winter months rather than the summer\n",
    "(there would be a strong relationship between day of the year and rainfall amount)\n",
    "- temperature is another indicator of rain? the lower the temp the higher chance/amount of rain\n",
    "- extension : impacts of climate change over the recent years \n",
    "\n",
    "\n",
    "\n",
    "\n",
    "\n"
   ]
  },
  {
   "cell_type": "code",
   "execution_count": null,
   "id": "1e08ade2-cc8c-44d4-a6b7-c8c0d5ac33a8",
   "metadata": {},
   "outputs": [],
   "source": []
  }
 ],
 "metadata": {
  "kernelspec": {
   "display_name": "R",
   "language": "R",
   "name": "ir"
  },
  "language_info": {
   "codemirror_mode": "r",
   "file_extension": ".r",
   "mimetype": "text/x-r-source",
   "name": "R",
   "pygments_lexer": "r",
   "version": "4.1.3"
  }
 },
 "nbformat": 4,
 "nbformat_minor": 5
}
